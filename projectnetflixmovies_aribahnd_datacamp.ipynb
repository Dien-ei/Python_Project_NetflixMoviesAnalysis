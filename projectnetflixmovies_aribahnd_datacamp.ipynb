{
 "cells": [
  {
   "cell_type": "markdown",
   "metadata": {},
   "source": [
    "# The Data"
   ]
  },
  {
   "cell_type": "markdown",
   "metadata": {},
   "source": [
    "| Column | Description |\n",
    "|--------|-------------|\n",
    "| `show_id` | The ID of the show |\n",
    "| `type` | Type of show |\n",
    "| `title` | Title of the show |\n",
    "| `director` | Director of the show |\n",
    "| `cast` | Cast of the show |\n",
    "| `country` | Country of origin |\n",
    "| `date_added` | Date added to Netflix |\n",
    "| `release_year` | Year of Netflix release |\n",
    "| `duration` | Duration of the show in minutes |\n",
    "| `description` | Description of the show |\n",
    "| `genre` | Show genre |"
   ]
  },
  {
   "cell_type": "markdown",
   "metadata": {},
   "source": [
    "\n",
    "**Netflix** merupakan layanan penyewaan DVD yang didirikan pada tahun 1997 dan telah berkembang menjadi salah satu perusahaan hiburan dan media terbesar dengan meluncurkan situs Netflix.com, yang memberikan skema pembayaran biaya bulanan untuk menyewa film. Dalam project ini sebuah perusahaan produksi dengan konsep nostalgia, membutuhkan bantuan saya untuk melakukan riset terhadap film yang dirilis pada tahun 1990-an, menggunakan  dataset Netlfix sebagai sumber data utama."
   ]
  },
  {
   "cell_type": "markdown",
   "metadata": {},
   "source": [
    "# Question"
   ]
  },
  {
   "cell_type": "markdown",
   "metadata": {},
   "source": [
    "1. Berapakah durasi film terbanyak di tahun 1990-an?\n",
    "\n",
    "2. Genre film terbanyak apa yang berada dalam dataset di tahun 1990-an?\n",
    "\n",
    "3. Negara mana yang menyumbang film terbanyak di tahun 1990-an?\n",
    "\n",
    "4. Apakah ada durasi film pada ketiga besar genre film terbanyak yang memiliki durasi < 90 menit?"
   ]
  },
  {
   "cell_type": "markdown",
   "metadata": {},
   "source": [
    "# Import Dataset"
   ]
  },
  {
   "cell_type": "code",
   "execution_count": 1,
   "metadata": {},
   "outputs": [
    {
     "data": {
      "text/html": [
       "<div>\n",
       "<style scoped>\n",
       "    .dataframe tbody tr th:only-of-type {\n",
       "        vertical-align: middle;\n",
       "    }\n",
       "\n",
       "    .dataframe tbody tr th {\n",
       "        vertical-align: top;\n",
       "    }\n",
       "\n",
       "    .dataframe thead th {\n",
       "        text-align: right;\n",
       "    }\n",
       "</style>\n",
       "<table border=\"1\" class=\"dataframe\">\n",
       "  <thead>\n",
       "    <tr style=\"text-align: right;\">\n",
       "      <th></th>\n",
       "      <th>show_id</th>\n",
       "      <th>type</th>\n",
       "      <th>title</th>\n",
       "      <th>director</th>\n",
       "      <th>cast</th>\n",
       "      <th>country</th>\n",
       "      <th>date_added</th>\n",
       "      <th>release_year</th>\n",
       "      <th>duration</th>\n",
       "      <th>description</th>\n",
       "      <th>genre</th>\n",
       "    </tr>\n",
       "  </thead>\n",
       "  <tbody>\n",
       "    <tr>\n",
       "      <th>0</th>\n",
       "      <td>s2</td>\n",
       "      <td>Movie</td>\n",
       "      <td>7:19</td>\n",
       "      <td>Jorge Michel Grau</td>\n",
       "      <td>\"Demián Bichir, Héctor Bonilla, Oscar Serrano,...</td>\n",
       "      <td>Mexico</td>\n",
       "      <td>\"December 23, 2016\"</td>\n",
       "      <td>2016</td>\n",
       "      <td>93</td>\n",
       "      <td>\"After a devastating earthquake hits Mexico Ci...</td>\n",
       "      <td>Dramas</td>\n",
       "    </tr>\n",
       "    <tr>\n",
       "      <th>1</th>\n",
       "      <td>s3</td>\n",
       "      <td>Movie</td>\n",
       "      <td>23:59</td>\n",
       "      <td>Gilbert Chan</td>\n",
       "      <td>\"Tedd Chan, Stella Chung, Henley Hii, Lawrence...</td>\n",
       "      <td>Singapore</td>\n",
       "      <td>\"December 20, 2018\"</td>\n",
       "      <td>2011</td>\n",
       "      <td>78</td>\n",
       "      <td>\"When an army recruit is found dead, his fello...</td>\n",
       "      <td>Horror Movies</td>\n",
       "    </tr>\n",
       "    <tr>\n",
       "      <th>2</th>\n",
       "      <td>s4</td>\n",
       "      <td>Movie</td>\n",
       "      <td>9</td>\n",
       "      <td>Shane Acker</td>\n",
       "      <td>\"Elijah Wood, John C. Reilly, Jennifer Connell...</td>\n",
       "      <td>United States</td>\n",
       "      <td>\"November 16, 2017\"</td>\n",
       "      <td>2009</td>\n",
       "      <td>80</td>\n",
       "      <td>\"In a postapocalyptic world, rag-doll robots h...</td>\n",
       "      <td>Action</td>\n",
       "    </tr>\n",
       "    <tr>\n",
       "      <th>3</th>\n",
       "      <td>s5</td>\n",
       "      <td>Movie</td>\n",
       "      <td>21</td>\n",
       "      <td>Robert Luketic</td>\n",
       "      <td>\"Jim Sturgess, Kevin Spacey, Kate Bosworth, Aa...</td>\n",
       "      <td>United States</td>\n",
       "      <td>\"January 1, 2020\"</td>\n",
       "      <td>2008</td>\n",
       "      <td>123</td>\n",
       "      <td>A brilliant group of students become card-coun...</td>\n",
       "      <td>Dramas</td>\n",
       "    </tr>\n",
       "    <tr>\n",
       "      <th>4</th>\n",
       "      <td>s6</td>\n",
       "      <td>TV Show</td>\n",
       "      <td>46</td>\n",
       "      <td>Serdar Akar</td>\n",
       "      <td>\"Erdal Beşikçioğlu, Yasemin Allen, Melis Birka...</td>\n",
       "      <td>Turkey</td>\n",
       "      <td>\"July 1, 2017\"</td>\n",
       "      <td>2016</td>\n",
       "      <td>1</td>\n",
       "      <td>\"A genetics professor experiments with a treat...</td>\n",
       "      <td>International TV</td>\n",
       "    </tr>\n",
       "  </tbody>\n",
       "</table>\n",
       "</div>"
      ],
      "text/plain": [
       "  show_id     type  title           director  \\\n",
       "0      s2    Movie   7:19  Jorge Michel Grau   \n",
       "1      s3    Movie  23:59       Gilbert Chan   \n",
       "2      s4    Movie      9        Shane Acker   \n",
       "3      s5    Movie     21     Robert Luketic   \n",
       "4      s6  TV Show     46        Serdar Akar   \n",
       "\n",
       "                                                cast        country  \\\n",
       "0  \"Demián Bichir, Héctor Bonilla, Oscar Serrano,...         Mexico   \n",
       "1  \"Tedd Chan, Stella Chung, Henley Hii, Lawrence...      Singapore   \n",
       "2  \"Elijah Wood, John C. Reilly, Jennifer Connell...  United States   \n",
       "3  \"Jim Sturgess, Kevin Spacey, Kate Bosworth, Aa...  United States   \n",
       "4  \"Erdal Beşikçioğlu, Yasemin Allen, Melis Birka...         Turkey   \n",
       "\n",
       "            date_added  release_year  duration  \\\n",
       "0  \"December 23, 2016\"          2016        93   \n",
       "1  \"December 20, 2018\"          2011        78   \n",
       "2  \"November 16, 2017\"          2009        80   \n",
       "3    \"January 1, 2020\"          2008       123   \n",
       "4       \"July 1, 2017\"          2016         1   \n",
       "\n",
       "                                         description             genre  \n",
       "0  \"After a devastating earthquake hits Mexico Ci...            Dramas  \n",
       "1  \"When an army recruit is found dead, his fello...     Horror Movies  \n",
       "2  \"In a postapocalyptic world, rag-doll robots h...            Action  \n",
       "3  A brilliant group of students become card-coun...            Dramas  \n",
       "4  \"A genetics professor experiments with a treat...  International TV  "
      ]
     },
     "execution_count": 1,
     "metadata": {},
     "output_type": "execute_result"
    }
   ],
   "source": [
    "# Importing pandas and matplotlib\n",
    "import pandas as pd\n",
    "import matplotlib.pyplot as plt\n",
    "\n",
    "# Read in the Netflix CSV as a DataFrame\n",
    "netflix_df = pd.read_csv(r\"D:\\2. AND\\13. BACKUP KERJA\\DATACAMP\\3. PROJECT NETFLIX\\netflix_movies.csv\")\n",
    "netflix_df.head()"
   ]
  },
  {
   "cell_type": "markdown",
   "metadata": {},
   "source": [
    "# Check Missing Values"
   ]
  },
  {
   "cell_type": "code",
   "execution_count": 2,
   "metadata": {},
   "outputs": [
    {
     "name": "stdout",
     "output_type": "stream",
     "text": [
      "<class 'pandas.core.frame.DataFrame'>\n",
      "RangeIndex: 4812 entries, 0 to 4811\n",
      "Data columns (total 11 columns):\n",
      " #   Column        Non-Null Count  Dtype \n",
      "---  ------        --------------  ----- \n",
      " 0   show_id       4812 non-null   object\n",
      " 1   type          4812 non-null   object\n",
      " 2   title         4812 non-null   object\n",
      " 3   director      4812 non-null   object\n",
      " 4   cast          4812 non-null   object\n",
      " 5   country       4812 non-null   object\n",
      " 6   date_added    4812 non-null   object\n",
      " 7   release_year  4812 non-null   int64 \n",
      " 8   duration      4812 non-null   int64 \n",
      " 9   description   4812 non-null   object\n",
      " 10  genre         4812 non-null   object\n",
      "dtypes: int64(2), object(9)\n",
      "memory usage: 413.7+ KB\n"
     ]
    }
   ],
   "source": [
    "netflix_df.info()"
   ]
  },
  {
   "cell_type": "code",
   "execution_count": 3,
   "metadata": {},
   "outputs": [
    {
     "data": {
      "text/plain": [
       "show_id         0\n",
       "type            0\n",
       "title           0\n",
       "director        0\n",
       "cast            0\n",
       "country         0\n",
       "date_added      0\n",
       "release_year    0\n",
       "duration        0\n",
       "description     0\n",
       "genre           0\n",
       "dtype: int64"
      ]
     },
     "execution_count": 3,
     "metadata": {},
     "output_type": "execute_result"
    }
   ],
   "source": [
    "netflix_df.isna().sum()"
   ]
  },
  {
   "cell_type": "code",
   "execution_count": 4,
   "metadata": {},
   "outputs": [
    {
     "data": {
      "text/plain": [
       "np.int64(0)"
      ]
     },
     "execution_count": 4,
     "metadata": {},
     "output_type": "execute_result"
    }
   ],
   "source": [
    "netflix_df.duplicated().sum()"
   ]
  },
  {
   "cell_type": "markdown",
   "metadata": {},
   "source": [
    "# Subset DataFrame"
   ]
  },
  {
   "cell_type": "markdown",
   "metadata": {},
   "source": [
    "## Groupby Type = Movie"
   ]
  },
  {
   "cell_type": "code",
   "execution_count": 5,
   "metadata": {},
   "outputs": [
    {
     "data": {
      "text/html": [
       "<div>\n",
       "<style scoped>\n",
       "    .dataframe tbody tr th:only-of-type {\n",
       "        vertical-align: middle;\n",
       "    }\n",
       "\n",
       "    .dataframe tbody tr th {\n",
       "        vertical-align: top;\n",
       "    }\n",
       "\n",
       "    .dataframe thead th {\n",
       "        text-align: right;\n",
       "    }\n",
       "</style>\n",
       "<table border=\"1\" class=\"dataframe\">\n",
       "  <thead>\n",
       "    <tr style=\"text-align: right;\">\n",
       "      <th></th>\n",
       "      <th>show_id</th>\n",
       "      <th>type</th>\n",
       "      <th>title</th>\n",
       "      <th>director</th>\n",
       "      <th>cast</th>\n",
       "      <th>country</th>\n",
       "      <th>date_added</th>\n",
       "      <th>release_year</th>\n",
       "      <th>duration</th>\n",
       "      <th>description</th>\n",
       "      <th>genre</th>\n",
       "    </tr>\n",
       "  </thead>\n",
       "  <tbody>\n",
       "    <tr>\n",
       "      <th>0</th>\n",
       "      <td>s2</td>\n",
       "      <td>Movie</td>\n",
       "      <td>7:19</td>\n",
       "      <td>Jorge Michel Grau</td>\n",
       "      <td>\"Demián Bichir, Héctor Bonilla, Oscar Serrano,...</td>\n",
       "      <td>Mexico</td>\n",
       "      <td>\"December 23, 2016\"</td>\n",
       "      <td>2016</td>\n",
       "      <td>93</td>\n",
       "      <td>\"After a devastating earthquake hits Mexico Ci...</td>\n",
       "      <td>Dramas</td>\n",
       "    </tr>\n",
       "    <tr>\n",
       "      <th>1</th>\n",
       "      <td>s3</td>\n",
       "      <td>Movie</td>\n",
       "      <td>23:59</td>\n",
       "      <td>Gilbert Chan</td>\n",
       "      <td>\"Tedd Chan, Stella Chung, Henley Hii, Lawrence...</td>\n",
       "      <td>Singapore</td>\n",
       "      <td>\"December 20, 2018\"</td>\n",
       "      <td>2011</td>\n",
       "      <td>78</td>\n",
       "      <td>\"When an army recruit is found dead, his fello...</td>\n",
       "      <td>Horror Movies</td>\n",
       "    </tr>\n",
       "    <tr>\n",
       "      <th>2</th>\n",
       "      <td>s4</td>\n",
       "      <td>Movie</td>\n",
       "      <td>9</td>\n",
       "      <td>Shane Acker</td>\n",
       "      <td>\"Elijah Wood, John C. Reilly, Jennifer Connell...</td>\n",
       "      <td>United States</td>\n",
       "      <td>\"November 16, 2017\"</td>\n",
       "      <td>2009</td>\n",
       "      <td>80</td>\n",
       "      <td>\"In a postapocalyptic world, rag-doll robots h...</td>\n",
       "      <td>Action</td>\n",
       "    </tr>\n",
       "    <tr>\n",
       "      <th>3</th>\n",
       "      <td>s5</td>\n",
       "      <td>Movie</td>\n",
       "      <td>21</td>\n",
       "      <td>Robert Luketic</td>\n",
       "      <td>\"Jim Sturgess, Kevin Spacey, Kate Bosworth, Aa...</td>\n",
       "      <td>United States</td>\n",
       "      <td>\"January 1, 2020\"</td>\n",
       "      <td>2008</td>\n",
       "      <td>123</td>\n",
       "      <td>A brilliant group of students become card-coun...</td>\n",
       "      <td>Dramas</td>\n",
       "    </tr>\n",
       "    <tr>\n",
       "      <th>5</th>\n",
       "      <td>s7</td>\n",
       "      <td>Movie</td>\n",
       "      <td>122</td>\n",
       "      <td>Yasir Al Yasiri</td>\n",
       "      <td>\"Amina Khalil, Ahmed Dawood, Tarek Lotfy, Ahme...</td>\n",
       "      <td>Egypt</td>\n",
       "      <td>\"June 1, 2020\"</td>\n",
       "      <td>2019</td>\n",
       "      <td>95</td>\n",
       "      <td>\"After an awful accident, a couple admitted to...</td>\n",
       "      <td>Horror Movies</td>\n",
       "    </tr>\n",
       "  </tbody>\n",
       "</table>\n",
       "</div>"
      ],
      "text/plain": [
       "  show_id   type  title           director  \\\n",
       "0      s2  Movie   7:19  Jorge Michel Grau   \n",
       "1      s3  Movie  23:59       Gilbert Chan   \n",
       "2      s4  Movie      9        Shane Acker   \n",
       "3      s5  Movie     21     Robert Luketic   \n",
       "5      s7  Movie    122    Yasir Al Yasiri   \n",
       "\n",
       "                                                cast        country  \\\n",
       "0  \"Demián Bichir, Héctor Bonilla, Oscar Serrano,...         Mexico   \n",
       "1  \"Tedd Chan, Stella Chung, Henley Hii, Lawrence...      Singapore   \n",
       "2  \"Elijah Wood, John C. Reilly, Jennifer Connell...  United States   \n",
       "3  \"Jim Sturgess, Kevin Spacey, Kate Bosworth, Aa...  United States   \n",
       "5  \"Amina Khalil, Ahmed Dawood, Tarek Lotfy, Ahme...          Egypt   \n",
       "\n",
       "            date_added  release_year  duration  \\\n",
       "0  \"December 23, 2016\"          2016        93   \n",
       "1  \"December 20, 2018\"          2011        78   \n",
       "2  \"November 16, 2017\"          2009        80   \n",
       "3    \"January 1, 2020\"          2008       123   \n",
       "5       \"June 1, 2020\"          2019        95   \n",
       "\n",
       "                                         description          genre  \n",
       "0  \"After a devastating earthquake hits Mexico Ci...         Dramas  \n",
       "1  \"When an army recruit is found dead, his fello...  Horror Movies  \n",
       "2  \"In a postapocalyptic world, rag-doll robots h...         Action  \n",
       "3  A brilliant group of students become card-coun...         Dramas  \n",
       "5  \"After an awful accident, a couple admitted to...  Horror Movies  "
      ]
     },
     "execution_count": 5,
     "metadata": {},
     "output_type": "execute_result"
    }
   ],
   "source": [
    "movie = netflix_df[netflix_df[\"type\"] == \"Movie\"]\n",
    "movie.head()"
   ]
  },
  {
   "cell_type": "code",
   "execution_count": 6,
   "metadata": {},
   "outputs": [
    {
     "data": {
      "text/plain": [
       "(4677, 11)"
      ]
     },
     "execution_count": 6,
     "metadata": {},
     "output_type": "execute_result"
    }
   ],
   "source": [
    "movie.shape"
   ]
  },
  {
   "cell_type": "markdown",
   "metadata": {},
   "source": [
    "## Filtering Movies in 1990s"
   ]
  },
  {
   "cell_type": "code",
   "execution_count": 7,
   "metadata": {},
   "outputs": [
    {
     "data": {
      "text/html": [
       "<div>\n",
       "<style scoped>\n",
       "    .dataframe tbody tr th:only-of-type {\n",
       "        vertical-align: middle;\n",
       "    }\n",
       "\n",
       "    .dataframe tbody tr th {\n",
       "        vertical-align: top;\n",
       "    }\n",
       "\n",
       "    .dataframe thead th {\n",
       "        text-align: right;\n",
       "    }\n",
       "</style>\n",
       "<table border=\"1\" class=\"dataframe\">\n",
       "  <thead>\n",
       "    <tr style=\"text-align: right;\">\n",
       "      <th></th>\n",
       "      <th>show_id</th>\n",
       "      <th>type</th>\n",
       "      <th>title</th>\n",
       "      <th>director</th>\n",
       "      <th>cast</th>\n",
       "      <th>country</th>\n",
       "      <th>date_added</th>\n",
       "      <th>release_year</th>\n",
       "      <th>duration</th>\n",
       "      <th>description</th>\n",
       "      <th>genre</th>\n",
       "    </tr>\n",
       "  </thead>\n",
       "  <tbody>\n",
       "    <tr>\n",
       "      <th>6</th>\n",
       "      <td>s8</td>\n",
       "      <td>Movie</td>\n",
       "      <td>187</td>\n",
       "      <td>Kevin Reynolds</td>\n",
       "      <td>\"Samuel L. Jackson, John Heard, Kelly Rowan, C...</td>\n",
       "      <td>United States</td>\n",
       "      <td>\"November 1, 2019\"</td>\n",
       "      <td>1997</td>\n",
       "      <td>119</td>\n",
       "      <td>\"After one of his high school students attacks...</td>\n",
       "      <td>Dramas</td>\n",
       "    </tr>\n",
       "    <tr>\n",
       "      <th>118</th>\n",
       "      <td>s167</td>\n",
       "      <td>Movie</td>\n",
       "      <td>A Dangerous Woman</td>\n",
       "      <td>Stephen Gyllenhaal</td>\n",
       "      <td>\"Debra Winger, Barbara Hershey, Gabriel Byrne,...</td>\n",
       "      <td>United States</td>\n",
       "      <td>\"April 1, 2018\"</td>\n",
       "      <td>1993</td>\n",
       "      <td>101</td>\n",
       "      <td>\"At the center of this engrossing melodrama is...</td>\n",
       "      <td>Dramas</td>\n",
       "    </tr>\n",
       "    <tr>\n",
       "      <th>145</th>\n",
       "      <td>s211</td>\n",
       "      <td>Movie</td>\n",
       "      <td>A Night at the Roxbury</td>\n",
       "      <td>John Fortenberry</td>\n",
       "      <td>\"Will Ferrell, Chris Kattan, Dan Hedaya, Molly...</td>\n",
       "      <td>United States</td>\n",
       "      <td>\"December 1, 2019\"</td>\n",
       "      <td>1998</td>\n",
       "      <td>82</td>\n",
       "      <td>\"After a run-in with Richard Grieco, dimwits D...</td>\n",
       "      <td>Comedies</td>\n",
       "    </tr>\n",
       "    <tr>\n",
       "      <th>167</th>\n",
       "      <td>s239</td>\n",
       "      <td>Movie</td>\n",
       "      <td>A Thin Line Between Love &amp; Hate</td>\n",
       "      <td>Martin Lawrence</td>\n",
       "      <td>\"Martin Lawrence, Lynn Whitfield, Regina King,...</td>\n",
       "      <td>United States</td>\n",
       "      <td>\"December 1, 2020\"</td>\n",
       "      <td>1996</td>\n",
       "      <td>108</td>\n",
       "      <td>\"When a philandering club promoter sets out to...</td>\n",
       "      <td>Comedies</td>\n",
       "    </tr>\n",
       "    <tr>\n",
       "      <th>194</th>\n",
       "      <td>s274</td>\n",
       "      <td>Movie</td>\n",
       "      <td>Aashik Awara</td>\n",
       "      <td>Umesh Mehra</td>\n",
       "      <td>\"Saif Ali Khan, Mamta Kulkarni, Mohnish Bahl, ...</td>\n",
       "      <td>India</td>\n",
       "      <td>\"June 1, 2017\"</td>\n",
       "      <td>1993</td>\n",
       "      <td>154</td>\n",
       "      <td>\"Raised by a kindly thief, orphaned Jimmy goes...</td>\n",
       "      <td>Dramas</td>\n",
       "    </tr>\n",
       "  </tbody>\n",
       "</table>\n",
       "</div>"
      ],
      "text/plain": [
       "    show_id   type                            title            director  \\\n",
       "6        s8  Movie                              187      Kevin Reynolds   \n",
       "118    s167  Movie                A Dangerous Woman  Stephen Gyllenhaal   \n",
       "145    s211  Movie           A Night at the Roxbury    John Fortenberry   \n",
       "167    s239  Movie  A Thin Line Between Love & Hate     Martin Lawrence   \n",
       "194    s274  Movie                     Aashik Awara         Umesh Mehra   \n",
       "\n",
       "                                                  cast        country  \\\n",
       "6    \"Samuel L. Jackson, John Heard, Kelly Rowan, C...  United States   \n",
       "118  \"Debra Winger, Barbara Hershey, Gabriel Byrne,...  United States   \n",
       "145  \"Will Ferrell, Chris Kattan, Dan Hedaya, Molly...  United States   \n",
       "167  \"Martin Lawrence, Lynn Whitfield, Regina King,...  United States   \n",
       "194  \"Saif Ali Khan, Mamta Kulkarni, Mohnish Bahl, ...          India   \n",
       "\n",
       "             date_added  release_year  duration  \\\n",
       "6    \"November 1, 2019\"          1997       119   \n",
       "118     \"April 1, 2018\"          1993       101   \n",
       "145  \"December 1, 2019\"          1998        82   \n",
       "167  \"December 1, 2020\"          1996       108   \n",
       "194      \"June 1, 2017\"          1993       154   \n",
       "\n",
       "                                           description     genre  \n",
       "6    \"After one of his high school students attacks...    Dramas  \n",
       "118  \"At the center of this engrossing melodrama is...    Dramas  \n",
       "145  \"After a run-in with Richard Grieco, dimwits D...  Comedies  \n",
       "167  \"When a philandering club promoter sets out to...  Comedies  \n",
       "194  \"Raised by a kindly thief, orphaned Jimmy goes...    Dramas  "
      ]
     },
     "execution_count": 7,
     "metadata": {},
     "output_type": "execute_result"
    }
   ],
   "source": [
    "movies_1990s = movie[(movie[\"release_year\"] >= 1990) & (movie[\"release_year\"] < 2000)]\n",
    "movies_1990s.head()\n"
   ]
  },
  {
   "cell_type": "code",
   "execution_count": 8,
   "metadata": {},
   "outputs": [
    {
     "data": {
      "text/plain": [
       "(183, 11)"
      ]
     },
     "execution_count": 8,
     "metadata": {},
     "output_type": "execute_result"
    }
   ],
   "source": [
    "movies_1990s.shape"
   ]
  },
  {
   "cell_type": "markdown",
   "metadata": {},
   "source": [
    "## Distribution Movies 1990s by Durations"
   ]
  },
  {
   "cell_type": "code",
   "execution_count": 9,
   "metadata": {},
   "outputs": [
    {
     "data": {
      "image/png": "[encoded data removed]",
      "text/plain": [
       "<Figure size 640x480 with 1 Axes>"
      ]
     },
     "metadata": {},
     "output_type": "display_data"
    }
   ],
   "source": [
    "plt.hist(movies_1990s[\"duration\"], color='skyblue', edgecolor='black', linewidth=1)\n",
    "plt.title('Distribution of Movie Durations in the 1990s')\n",
    "plt.xlabel('Duration (minutes)')\n",
    "plt.ylabel('Number of Movies')\n",
    "plt.show()\n",
    "\n",
    "duration = 100"
   ]
  },
  {
   "cell_type": "markdown",
   "metadata": {},
   "source": [
    "## Looking for Genre in Dataset Movies_1990s"
   ]
  },
  {
   "cell_type": "code",
   "execution_count": 10,
   "metadata": {},
   "outputs": [
    {
     "data": {
      "text/plain": [
       "array(['Dramas', 'Comedies', 'Children', 'Action', 'Documentaries',\n",
       "       'Classic Movies', 'Stand-Up', 'Cult Movies', 'Thrillers',\n",
       "       'Horror Movies'], dtype=object)"
      ]
     },
     "execution_count": 10,
     "metadata": {},
     "output_type": "execute_result"
    }
   ],
   "source": [
    "movies_1990s[\"genre\"].unique()\n"
   ]
  },
  {
   "cell_type": "markdown",
   "metadata": {},
   "source": [
    "## Distribution Movies 1990s by Genre"
   ]
  },
  {
   "cell_type": "code",
   "execution_count": 11,
   "metadata": {},
   "outputs": [
    {
     "data": {
      "image/png": "[encoded data removed]",
      "text/plain": [
       "<Figure size 640x480 with 1 Axes>"
      ]
     },
     "metadata": {},
     "output_type": "display_data"
    }
   ],
   "source": [
    "plt.hist(movies_1990s[\"genre\"], color='skyblue', edgecolor='black', linewidth=1)\n",
    "plt.title('Distribution of Movie Genres in the 1990s')\n",
    "plt.xlabel('Genres')\n",
    "plt.ylabel('Number of Movies')\n",
    "plt.show()"
   ]
  },
  {
   "cell_type": "markdown",
   "metadata": {},
   "source": [
    "## Looking Country in Datasets"
   ]
  },
  {
   "cell_type": "code",
   "execution_count": 12,
   "metadata": {},
   "outputs": [
    {
     "data": {
      "text/plain": [
       "array(['United States', 'India', 'United Kingdom', 'Germany', 'Hong Kong',\n",
       "       'France', 'Poland', 'Japan', 'Australia', 'Mexico', 'Thailand',\n",
       "       'Canada', 'Argentina', 'Egypt'], dtype=object)"
      ]
     },
     "execution_count": 12,
     "metadata": {},
     "output_type": "execute_result"
    }
   ],
   "source": [
    "movies_1990s[\"country\"].unique()"
   ]
  },
  {
   "cell_type": "markdown",
   "metadata": {},
   "source": [
    "## Distribution Movies 1990s by Country"
   ]
  },
  {
   "cell_type": "code",
   "execution_count": 13,
   "metadata": {},
   "outputs": [
    {
     "data": {
      "image/png": "[encoded data removed]",
      "text/plain": [
       "<Figure size 640x480 with 1 Axes>"
      ]
     },
     "metadata": {},
     "output_type": "display_data"
    }
   ],
   "source": [
    "import matplotlib.pyplot as plt\n",
    "plt.hist(movies_1990s[\"country\"], bins= 14, color='skyblue', edgecolor='black', linewidth=1)\n",
    "plt.title('Distribution of Movie Countries in the 1990s')\n",
    "plt.xlabel('Country')\n",
    "plt.ylabel('Number of Movies')\n",
    "plt.show()"
   ]
  },
  {
   "cell_type": "markdown",
   "metadata": {},
   "source": [
    "## Filtering by Genre in Movie Type"
   ]
  },
  {
   "cell_type": "code",
   "execution_count": 14,
   "metadata": {},
   "outputs": [
    {
     "data": {
      "text/html": [
       "<div>\n",
       "<style scoped>\n",
       "    .dataframe tbody tr th:only-of-type {\n",
       "        vertical-align: middle;\n",
       "    }\n",
       "\n",
       "    .dataframe tbody tr th {\n",
       "        vertical-align: top;\n",
       "    }\n",
       "\n",
       "    .dataframe thead th {\n",
       "        text-align: right;\n",
       "    }\n",
       "</style>\n",
       "<table border=\"1\" class=\"dataframe\">\n",
       "  <thead>\n",
       "    <tr style=\"text-align: right;\">\n",
       "      <th></th>\n",
       "      <th>show_id</th>\n",
       "      <th>type</th>\n",
       "      <th>title</th>\n",
       "      <th>director</th>\n",
       "      <th>cast</th>\n",
       "      <th>country</th>\n",
       "      <th>date_added</th>\n",
       "      <th>release_year</th>\n",
       "      <th>duration</th>\n",
       "      <th>description</th>\n",
       "      <th>genre</th>\n",
       "    </tr>\n",
       "  </thead>\n",
       "  <tbody>\n",
       "    <tr>\n",
       "      <th>352</th>\n",
       "      <td>s508</td>\n",
       "      <td>Movie</td>\n",
       "      <td>Andaz Apna Apna</td>\n",
       "      <td>Rajkumar Santoshi</td>\n",
       "      <td>\"Aamir Khan, Salman Khan, Raveena Tandon, Kari...</td>\n",
       "      <td>India</td>\n",
       "      <td>\"May 11, 2020\"</td>\n",
       "      <td>1994</td>\n",
       "      <td>160</td>\n",
       "      <td>\"Broke and with no concrete plans for the futu...</td>\n",
       "      <td>Action</td>\n",
       "    </tr>\n",
       "    <tr>\n",
       "      <th>431</th>\n",
       "      <td>s628</td>\n",
       "      <td>Movie</td>\n",
       "      <td>Austin Powers: The Spy Who Shagged Me</td>\n",
       "      <td>Jay Roach</td>\n",
       "      <td>\"Mike Myers, Heather Graham, Michael York, Rob...</td>\n",
       "      <td>United States</td>\n",
       "      <td>\"December 1, 2019\"</td>\n",
       "      <td>1999</td>\n",
       "      <td>95</td>\n",
       "      <td>\"When diabolical genius Dr. Evil travels back ...</td>\n",
       "      <td>Action</td>\n",
       "    </tr>\n",
       "    <tr>\n",
       "      <th>468</th>\n",
       "      <td>s688</td>\n",
       "      <td>Movie</td>\n",
       "      <td>Bad Boys</td>\n",
       "      <td>Michael Bay</td>\n",
       "      <td>\"Will Smith, Martin Lawrence, Téa Leoni, Tchék...</td>\n",
       "      <td>United States</td>\n",
       "      <td>\"October 1, 2019\"</td>\n",
       "      <td>1995</td>\n",
       "      <td>119</td>\n",
       "      <td>\"In this fast-paced actioner, two Miami narcot...</td>\n",
       "      <td>Action</td>\n",
       "    </tr>\n",
       "    <tr>\n",
       "      <th>515</th>\n",
       "      <td>s757</td>\n",
       "      <td>Movie</td>\n",
       "      <td>Barsaat</td>\n",
       "      <td>Rajkumar Santoshi</td>\n",
       "      <td>\"Twinkle Khanna, Bobby Deol, Danny Denzongpa, ...</td>\n",
       "      <td>India</td>\n",
       "      <td>\"April 1, 2018\"</td>\n",
       "      <td>1995</td>\n",
       "      <td>166</td>\n",
       "      <td>\"A naïve young man and a rich city girl fall i...</td>\n",
       "      <td>Action</td>\n",
       "    </tr>\n",
       "    <tr>\n",
       "      <th>675</th>\n",
       "      <td>s1003</td>\n",
       "      <td>Movie</td>\n",
       "      <td>Blue Streak</td>\n",
       "      <td>Les Mayfield</td>\n",
       "      <td>\"Martin Lawrence, Luke Wilson, Peter Greene, D...</td>\n",
       "      <td>Germany</td>\n",
       "      <td>\"January 1, 2021\"</td>\n",
       "      <td>1999</td>\n",
       "      <td>94</td>\n",
       "      <td>A jewel thief returns to his hiding place afte...</td>\n",
       "      <td>Action</td>\n",
       "    </tr>\n",
       "  </tbody>\n",
       "</table>\n",
       "</div>"
      ],
      "text/plain": [
       "    show_id   type                                  title           director  \\\n",
       "352    s508  Movie                        Andaz Apna Apna  Rajkumar Santoshi   \n",
       "431    s628  Movie  Austin Powers: The Spy Who Shagged Me          Jay Roach   \n",
       "468    s688  Movie                               Bad Boys        Michael Bay   \n",
       "515    s757  Movie                                Barsaat  Rajkumar Santoshi   \n",
       "675   s1003  Movie                            Blue Streak       Les Mayfield   \n",
       "\n",
       "                                                  cast        country  \\\n",
       "352  \"Aamir Khan, Salman Khan, Raveena Tandon, Kari...          India   \n",
       "431  \"Mike Myers, Heather Graham, Michael York, Rob...  United States   \n",
       "468  \"Will Smith, Martin Lawrence, Téa Leoni, Tchék...  United States   \n",
       "515  \"Twinkle Khanna, Bobby Deol, Danny Denzongpa, ...          India   \n",
       "675  \"Martin Lawrence, Luke Wilson, Peter Greene, D...        Germany   \n",
       "\n",
       "             date_added  release_year  duration  \\\n",
       "352      \"May 11, 2020\"          1994       160   \n",
       "431  \"December 1, 2019\"          1999        95   \n",
       "468   \"October 1, 2019\"          1995       119   \n",
       "515     \"April 1, 2018\"          1995       166   \n",
       "675   \"January 1, 2021\"          1999        94   \n",
       "\n",
       "                                           description   genre  \n",
       "352  \"Broke and with no concrete plans for the futu...  Action  \n",
       "431  \"When diabolical genius Dr. Evil travels back ...  Action  \n",
       "468  \"In this fast-paced actioner, two Miami narcot...  Action  \n",
       "515  \"A naïve young man and a rich city girl fall i...  Action  \n",
       "675  A jewel thief returns to his hiding place afte...  Action  "
      ]
     },
     "execution_count": 14,
     "metadata": {},
     "output_type": "execute_result"
    }
   ],
   "source": [
    "action_movies_1990s = movies_1990s[movies_1990s[\"genre\"] == \"Action\"]\n",
    "action_movies_1990s.head()"
   ]
  },
  {
   "cell_type": "code",
   "execution_count": 15,
   "metadata": {},
   "outputs": [
    {
     "data": {
      "text/plain": [
       "(48, 11)"
      ]
     },
     "execution_count": 15,
     "metadata": {},
     "output_type": "execute_result"
    }
   ],
   "source": [
    "action_movies_1990s.shape"
   ]
  },
  {
   "cell_type": "code",
   "execution_count": 16,
   "metadata": {},
   "outputs": [
    {
     "data": {
      "text/html": [
       "<div>\n",
       "<style scoped>\n",
       "    .dataframe tbody tr th:only-of-type {\n",
       "        vertical-align: middle;\n",
       "    }\n",
       "\n",
       "    .dataframe tbody tr th {\n",
       "        vertical-align: top;\n",
       "    }\n",
       "\n",
       "    .dataframe thead th {\n",
       "        text-align: right;\n",
       "    }\n",
       "</style>\n",
       "<table border=\"1\" class=\"dataframe\">\n",
       "  <thead>\n",
       "    <tr style=\"text-align: right;\">\n",
       "      <th></th>\n",
       "      <th>show_id</th>\n",
       "      <th>type</th>\n",
       "      <th>title</th>\n",
       "      <th>director</th>\n",
       "      <th>cast</th>\n",
       "      <th>country</th>\n",
       "      <th>date_added</th>\n",
       "      <th>release_year</th>\n",
       "      <th>duration</th>\n",
       "      <th>description</th>\n",
       "      <th>genre</th>\n",
       "    </tr>\n",
       "  </thead>\n",
       "  <tbody>\n",
       "    <tr>\n",
       "      <th>6</th>\n",
       "      <td>s8</td>\n",
       "      <td>Movie</td>\n",
       "      <td>187</td>\n",
       "      <td>Kevin Reynolds</td>\n",
       "      <td>\"Samuel L. Jackson, John Heard, Kelly Rowan, C...</td>\n",
       "      <td>United States</td>\n",
       "      <td>\"November 1, 2019\"</td>\n",
       "      <td>1997</td>\n",
       "      <td>119</td>\n",
       "      <td>\"After one of his high school students attacks...</td>\n",
       "      <td>Dramas</td>\n",
       "    </tr>\n",
       "    <tr>\n",
       "      <th>118</th>\n",
       "      <td>s167</td>\n",
       "      <td>Movie</td>\n",
       "      <td>A Dangerous Woman</td>\n",
       "      <td>Stephen Gyllenhaal</td>\n",
       "      <td>\"Debra Winger, Barbara Hershey, Gabriel Byrne,...</td>\n",
       "      <td>United States</td>\n",
       "      <td>\"April 1, 2018\"</td>\n",
       "      <td>1993</td>\n",
       "      <td>101</td>\n",
       "      <td>\"At the center of this engrossing melodrama is...</td>\n",
       "      <td>Dramas</td>\n",
       "    </tr>\n",
       "    <tr>\n",
       "      <th>194</th>\n",
       "      <td>s274</td>\n",
       "      <td>Movie</td>\n",
       "      <td>Aashik Awara</td>\n",
       "      <td>Umesh Mehra</td>\n",
       "      <td>\"Saif Ali Khan, Mamta Kulkarni, Mohnish Bahl, ...</td>\n",
       "      <td>India</td>\n",
       "      <td>\"June 1, 2017\"</td>\n",
       "      <td>1993</td>\n",
       "      <td>154</td>\n",
       "      <td>\"Raised by a kindly thief, orphaned Jimmy goes...</td>\n",
       "      <td>Dramas</td>\n",
       "    </tr>\n",
       "    <tr>\n",
       "      <th>240</th>\n",
       "      <td>s344</td>\n",
       "      <td>Movie</td>\n",
       "      <td>Agneepath</td>\n",
       "      <td>Mukul Anand</td>\n",
       "      <td>\"Amitabh Bachchan, Mithun Chakraborty, Danny D...</td>\n",
       "      <td>India</td>\n",
       "      <td>\"April 1, 2020\"</td>\n",
       "      <td>1990</td>\n",
       "      <td>174</td>\n",
       "      <td>\"A boy grows up to become a gangster in pursui...</td>\n",
       "      <td>Dramas</td>\n",
       "    </tr>\n",
       "    <tr>\n",
       "      <th>315</th>\n",
       "      <td>s456</td>\n",
       "      <td>Movie</td>\n",
       "      <td>American Beauty</td>\n",
       "      <td>Sam Mendes</td>\n",
       "      <td>\"Kevin Spacey, Annette Bening, Thora Birch, We...</td>\n",
       "      <td>United States</td>\n",
       "      <td>\"January 1, 2020\"</td>\n",
       "      <td>1999</td>\n",
       "      <td>122</td>\n",
       "      <td>\"While struggling to endure his tightly wound ...</td>\n",
       "      <td>Dramas</td>\n",
       "    </tr>\n",
       "  </tbody>\n",
       "</table>\n",
       "</div>"
      ],
      "text/plain": [
       "    show_id   type              title            director  \\\n",
       "6        s8  Movie                187      Kevin Reynolds   \n",
       "118    s167  Movie  A Dangerous Woman  Stephen Gyllenhaal   \n",
       "194    s274  Movie       Aashik Awara         Umesh Mehra   \n",
       "240    s344  Movie          Agneepath         Mukul Anand   \n",
       "315    s456  Movie    American Beauty          Sam Mendes   \n",
       "\n",
       "                                                  cast        country  \\\n",
       "6    \"Samuel L. Jackson, John Heard, Kelly Rowan, C...  United States   \n",
       "118  \"Debra Winger, Barbara Hershey, Gabriel Byrne,...  United States   \n",
       "194  \"Saif Ali Khan, Mamta Kulkarni, Mohnish Bahl, ...          India   \n",
       "240  \"Amitabh Bachchan, Mithun Chakraborty, Danny D...          India   \n",
       "315  \"Kevin Spacey, Annette Bening, Thora Birch, We...  United States   \n",
       "\n",
       "             date_added  release_year  duration  \\\n",
       "6    \"November 1, 2019\"          1997       119   \n",
       "118     \"April 1, 2018\"          1993       101   \n",
       "194      \"June 1, 2017\"          1993       154   \n",
       "240     \"April 1, 2020\"          1990       174   \n",
       "315   \"January 1, 2020\"          1999       122   \n",
       "\n",
       "                                           description   genre  \n",
       "6    \"After one of his high school students attacks...  Dramas  \n",
       "118  \"At the center of this engrossing melodrama is...  Dramas  \n",
       "194  \"Raised by a kindly thief, orphaned Jimmy goes...  Dramas  \n",
       "240  \"A boy grows up to become a gangster in pursui...  Dramas  \n",
       "315  \"While struggling to endure his tightly wound ...  Dramas  "
      ]
     },
     "execution_count": 16,
     "metadata": {},
     "output_type": "execute_result"
    }
   ],
   "source": [
    "drama_movies_1990s = movies_1990s[movies_1990s[\"genre\"] == \"Dramas\"]\n",
    "drama_movies_1990s.head()"
   ]
  },
  {
   "cell_type": "code",
   "execution_count": 17,
   "metadata": {},
   "outputs": [
    {
     "data": {
      "text/plain": [
       "(44, 11)"
      ]
     },
     "execution_count": 17,
     "metadata": {},
     "output_type": "execute_result"
    }
   ],
   "source": [
    "drama_movies_1990s.shape"
   ]
  },
  {
   "cell_type": "code",
   "execution_count": 18,
   "metadata": {},
   "outputs": [
    {
     "data": {
      "text/html": [
       "<div>\n",
       "<style scoped>\n",
       "    .dataframe tbody tr th:only-of-type {\n",
       "        vertical-align: middle;\n",
       "    }\n",
       "\n",
       "    .dataframe tbody tr th {\n",
       "        vertical-align: top;\n",
       "    }\n",
       "\n",
       "    .dataframe thead th {\n",
       "        text-align: right;\n",
       "    }\n",
       "</style>\n",
       "<table border=\"1\" class=\"dataframe\">\n",
       "  <thead>\n",
       "    <tr style=\"text-align: right;\">\n",
       "      <th></th>\n",
       "      <th>show_id</th>\n",
       "      <th>type</th>\n",
       "      <th>title</th>\n",
       "      <th>director</th>\n",
       "      <th>cast</th>\n",
       "      <th>country</th>\n",
       "      <th>date_added</th>\n",
       "      <th>release_year</th>\n",
       "      <th>duration</th>\n",
       "      <th>description</th>\n",
       "      <th>genre</th>\n",
       "    </tr>\n",
       "  </thead>\n",
       "  <tbody>\n",
       "    <tr>\n",
       "      <th>145</th>\n",
       "      <td>s211</td>\n",
       "      <td>Movie</td>\n",
       "      <td>A Night at the Roxbury</td>\n",
       "      <td>John Fortenberry</td>\n",
       "      <td>\"Will Ferrell, Chris Kattan, Dan Hedaya, Molly...</td>\n",
       "      <td>United States</td>\n",
       "      <td>\"December 1, 2019\"</td>\n",
       "      <td>1998</td>\n",
       "      <td>82</td>\n",
       "      <td>\"After a run-in with Richard Grieco, dimwits D...</td>\n",
       "      <td>Comedies</td>\n",
       "    </tr>\n",
       "    <tr>\n",
       "      <th>167</th>\n",
       "      <td>s239</td>\n",
       "      <td>Movie</td>\n",
       "      <td>A Thin Line Between Love &amp; Hate</td>\n",
       "      <td>Martin Lawrence</td>\n",
       "      <td>\"Martin Lawrence, Lynn Whitfield, Regina King,...</td>\n",
       "      <td>United States</td>\n",
       "      <td>\"December 1, 2020\"</td>\n",
       "      <td>1996</td>\n",
       "      <td>108</td>\n",
       "      <td>\"When a philandering club promoter sets out to...</td>\n",
       "      <td>Comedies</td>\n",
       "    </tr>\n",
       "    <tr>\n",
       "      <th>410</th>\n",
       "      <td>s593</td>\n",
       "      <td>Movie</td>\n",
       "      <td>As Good as It Gets</td>\n",
       "      <td>James L. Brooks</td>\n",
       "      <td>\"Jack Nicholson, Helen Hunt, Greg Kinnear, Cub...</td>\n",
       "      <td>United States</td>\n",
       "      <td>\"January 1, 2020\"</td>\n",
       "      <td>1997</td>\n",
       "      <td>139</td>\n",
       "      <td>\"The structured world of a sour, obsessive-com...</td>\n",
       "      <td>Comedies</td>\n",
       "    </tr>\n",
       "    <tr>\n",
       "      <th>430</th>\n",
       "      <td>s627</td>\n",
       "      <td>Movie</td>\n",
       "      <td>Austin Powers: International Man of Mystery</td>\n",
       "      <td>Jay Roach</td>\n",
       "      <td>\"Mike Myers, Elizabeth Hurley, Michael York, M...</td>\n",
       "      <td>United States</td>\n",
       "      <td>\"December 1, 2019\"</td>\n",
       "      <td>1997</td>\n",
       "      <td>90</td>\n",
       "      <td>\"A swingin' fashion photographer by day and a ...</td>\n",
       "      <td>Comedies</td>\n",
       "    </tr>\n",
       "    <tr>\n",
       "      <th>516</th>\n",
       "      <td>s758</td>\n",
       "      <td>Movie</td>\n",
       "      <td>BASEketball</td>\n",
       "      <td>David Zucker</td>\n",
       "      <td>\"Trey Parker, Matt Stone, Dian Bachar, Yasmine...</td>\n",
       "      <td>United States</td>\n",
       "      <td>\"November 1, 2018\"</td>\n",
       "      <td>1998</td>\n",
       "      <td>103</td>\n",
       "      <td>\"When two slackers' made-up sport, BASEketball...</td>\n",
       "      <td>Comedies</td>\n",
       "    </tr>\n",
       "  </tbody>\n",
       "</table>\n",
       "</div>"
      ],
      "text/plain": [
       "    show_id   type                                        title  \\\n",
       "145    s211  Movie                       A Night at the Roxbury   \n",
       "167    s239  Movie              A Thin Line Between Love & Hate   \n",
       "410    s593  Movie                           As Good as It Gets   \n",
       "430    s627  Movie  Austin Powers: International Man of Mystery   \n",
       "516    s758  Movie                                  BASEketball   \n",
       "\n",
       "             director                                               cast  \\\n",
       "145  John Fortenberry  \"Will Ferrell, Chris Kattan, Dan Hedaya, Molly...   \n",
       "167   Martin Lawrence  \"Martin Lawrence, Lynn Whitfield, Regina King,...   \n",
       "410   James L. Brooks  \"Jack Nicholson, Helen Hunt, Greg Kinnear, Cub...   \n",
       "430         Jay Roach  \"Mike Myers, Elizabeth Hurley, Michael York, M...   \n",
       "516      David Zucker  \"Trey Parker, Matt Stone, Dian Bachar, Yasmine...   \n",
       "\n",
       "           country          date_added  release_year  duration  \\\n",
       "145  United States  \"December 1, 2019\"          1998        82   \n",
       "167  United States  \"December 1, 2020\"          1996       108   \n",
       "410  United States   \"January 1, 2020\"          1997       139   \n",
       "430  United States  \"December 1, 2019\"          1997        90   \n",
       "516  United States  \"November 1, 2018\"          1998       103   \n",
       "\n",
       "                                           description     genre  \n",
       "145  \"After a run-in with Richard Grieco, dimwits D...  Comedies  \n",
       "167  \"When a philandering club promoter sets out to...  Comedies  \n",
       "410  \"The structured world of a sour, obsessive-com...  Comedies  \n",
       "430  \"A swingin' fashion photographer by day and a ...  Comedies  \n",
       "516  \"When two slackers' made-up sport, BASEketball...  Comedies  "
      ]
     },
     "execution_count": 18,
     "metadata": {},
     "output_type": "execute_result"
    }
   ],
   "source": [
    "comedies_movies_1990s = movies_1990s[movies_1990s[\"genre\"] == \"Comedies\"]\n",
    "comedies_movies_1990s.head()"
   ]
  },
  {
   "cell_type": "code",
   "execution_count": 19,
   "metadata": {},
   "outputs": [
    {
     "data": {
      "text/plain": [
       "(40, 11)"
      ]
     },
     "execution_count": 19,
     "metadata": {},
     "output_type": "execute_result"
    }
   ],
   "source": [
    "comedies_movies_1990s.shape"
   ]
  },
  {
   "cell_type": "markdown",
   "metadata": {},
   "source": [
    "## Looping for Duration 90 in 3 Highest Genres in Movies 1900s"
   ]
  },
  {
   "cell_type": "code",
   "execution_count": 20,
   "metadata": {},
   "outputs": [
    {
     "name": "stdout",
     "output_type": "stream",
     "text": [
      "Jumlah action movies berdurasi 90 menit: 7\n"
     ]
    }
   ],
   "source": [
    "# Loop for duration 90 Action Movies\n",
    "short_movie_count = 0\n",
    "for label, row in action_movies_1990s.iterrows() :\n",
    "    if row[\"duration\"] < 90 :\n",
    "        short_movie_count = short_movie_count + 1\n",
    "    else:\n",
    "        short_movie_count = short_movie_count\n",
    "\n",
    "print(\"Jumlah action movies berdurasi 90 menit: \" + str(short_movie_count))"
   ]
  },
  {
   "cell_type": "code",
   "execution_count": 21,
   "metadata": {},
   "outputs": [
    {
     "name": "stdout",
     "output_type": "stream",
     "text": [
      "Jumlah drama movies berdurasi 90 menit: 2\n"
     ]
    }
   ],
   "source": [
    "# Loop for duration 90 Dramas Movies\n",
    "short_movie_count = 0\n",
    "for label, row in drama_movies_1990s.iterrows() :\n",
    "    if row[\"duration\"] < 90 :\n",
    "        short_movie_count = short_movie_count + 1\n",
    "    else:\n",
    "        short_movie_count = short_movie_count\n",
    "\n",
    "print(\"Jumlah drama movies berdurasi 90 menit: \" + str(short_movie_count))"
   ]
  },
  {
   "cell_type": "code",
   "execution_count": 22,
   "metadata": {},
   "outputs": [
    {
     "name": "stdout",
     "output_type": "stream",
     "text": [
      "Jumlah comedies movies berdurasi 90 menit: 8\n"
     ]
    }
   ],
   "source": [
    "# Loop for duration 90 Comedies Movies\n",
    "short_movie_count = 0\n",
    "for label, row in comedies_movies_1990s.iterrows() :\n",
    "    if row[\"duration\"] < 90 :\n",
    "        short_movie_count = short_movie_count + 1\n",
    "    else:\n",
    "        short_movie_count = short_movie_count\n",
    "\n",
    "print(\"Jumlah comedies movies berdurasi 90 menit: \" + str(short_movie_count))"
   ]
  },
  {
   "cell_type": "markdown",
   "metadata": {},
   "source": [
    "Quick Syntax"
   ]
  },
  {
   "cell_type": "code",
   "execution_count": 23,
   "metadata": {},
   "outputs": [
    {
     "name": "stdout",
     "output_type": "stream",
     "text": [
      "Jumlah action movies berdurasi 90 menit: 7\n"
     ]
    }
   ],
   "source": [
    "total_act_mov_1990s = (action_movies_1990s[\"duration\"] < 90).sum()\n",
    "print(\"Jumlah action movies berdurasi 90 menit:\", total_act_mov_1990s)"
   ]
  },
  {
   "cell_type": "code",
   "execution_count": 24,
   "metadata": {},
   "outputs": [
    {
     "name": "stdout",
     "output_type": "stream",
     "text": [
      "Jumlah action movies berdurasi 90 menit: 2\n"
     ]
    }
   ],
   "source": [
    "total_dramas_mov_1990s = (drama_movies_1990s[\"duration\"] < 90).sum()\n",
    "print(\"Jumlah action movies berdurasi 90 menit:\", total_dramas_mov_1990s)"
   ]
  },
  {
   "cell_type": "code",
   "execution_count": 25,
   "metadata": {},
   "outputs": [
    {
     "name": "stdout",
     "output_type": "stream",
     "text": [
      "Jumlah action movies berdurasi 90 menit: 8\n"
     ]
    }
   ],
   "source": [
    "total_comedies_mov_1990s = (comedies_movies_1990s[\"duration\"] < 90).sum()\n",
    "print(\"Jumlah action movies berdurasi 90 menit:\", total_comedies_mov_1990s)"
   ]
  },
  {
   "cell_type": "markdown",
   "metadata": {},
   "source": [
    "# Movies in 2000s"
   ]
  },
  {
   "cell_type": "markdown",
   "metadata": {},
   "source": [
    "## Filtering Movies in 2000s"
   ]
  },
  {
   "cell_type": "code",
   "execution_count": 26,
   "metadata": {},
   "outputs": [
    {
     "data": {
      "text/html": [
       "<div>\n",
       "<style scoped>\n",
       "    .dataframe tbody tr th:only-of-type {\n",
       "        vertical-align: middle;\n",
       "    }\n",
       "\n",
       "    .dataframe tbody tr th {\n",
       "        vertical-align: top;\n",
       "    }\n",
       "\n",
       "    .dataframe thead th {\n",
       "        text-align: right;\n",
       "    }\n",
       "</style>\n",
       "<table border=\"1\" class=\"dataframe\">\n",
       "  <thead>\n",
       "    <tr style=\"text-align: right;\">\n",
       "      <th></th>\n",
       "      <th>show_id</th>\n",
       "      <th>type</th>\n",
       "      <th>title</th>\n",
       "      <th>director</th>\n",
       "      <th>cast</th>\n",
       "      <th>country</th>\n",
       "      <th>date_added</th>\n",
       "      <th>release_year</th>\n",
       "      <th>duration</th>\n",
       "      <th>description</th>\n",
       "      <th>genre</th>\n",
       "    </tr>\n",
       "  </thead>\n",
       "  <tbody>\n",
       "    <tr>\n",
       "      <th>0</th>\n",
       "      <td>s2</td>\n",
       "      <td>Movie</td>\n",
       "      <td>7:19</td>\n",
       "      <td>Jorge Michel Grau</td>\n",
       "      <td>\"Demián Bichir, Héctor Bonilla, Oscar Serrano,...</td>\n",
       "      <td>Mexico</td>\n",
       "      <td>\"December 23, 2016\"</td>\n",
       "      <td>2016</td>\n",
       "      <td>93</td>\n",
       "      <td>\"After a devastating earthquake hits Mexico Ci...</td>\n",
       "      <td>Dramas</td>\n",
       "    </tr>\n",
       "    <tr>\n",
       "      <th>1</th>\n",
       "      <td>s3</td>\n",
       "      <td>Movie</td>\n",
       "      <td>23:59</td>\n",
       "      <td>Gilbert Chan</td>\n",
       "      <td>\"Tedd Chan, Stella Chung, Henley Hii, Lawrence...</td>\n",
       "      <td>Singapore</td>\n",
       "      <td>\"December 20, 2018\"</td>\n",
       "      <td>2011</td>\n",
       "      <td>78</td>\n",
       "      <td>\"When an army recruit is found dead, his fello...</td>\n",
       "      <td>Horror Movies</td>\n",
       "    </tr>\n",
       "    <tr>\n",
       "      <th>2</th>\n",
       "      <td>s4</td>\n",
       "      <td>Movie</td>\n",
       "      <td>9</td>\n",
       "      <td>Shane Acker</td>\n",
       "      <td>\"Elijah Wood, John C. Reilly, Jennifer Connell...</td>\n",
       "      <td>United States</td>\n",
       "      <td>\"November 16, 2017\"</td>\n",
       "      <td>2009</td>\n",
       "      <td>80</td>\n",
       "      <td>\"In a postapocalyptic world, rag-doll robots h...</td>\n",
       "      <td>Action</td>\n",
       "    </tr>\n",
       "    <tr>\n",
       "      <th>3</th>\n",
       "      <td>s5</td>\n",
       "      <td>Movie</td>\n",
       "      <td>21</td>\n",
       "      <td>Robert Luketic</td>\n",
       "      <td>\"Jim Sturgess, Kevin Spacey, Kate Bosworth, Aa...</td>\n",
       "      <td>United States</td>\n",
       "      <td>\"January 1, 2020\"</td>\n",
       "      <td>2008</td>\n",
       "      <td>123</td>\n",
       "      <td>A brilliant group of students become card-coun...</td>\n",
       "      <td>Dramas</td>\n",
       "    </tr>\n",
       "    <tr>\n",
       "      <th>5</th>\n",
       "      <td>s7</td>\n",
       "      <td>Movie</td>\n",
       "      <td>122</td>\n",
       "      <td>Yasir Al Yasiri</td>\n",
       "      <td>\"Amina Khalil, Ahmed Dawood, Tarek Lotfy, Ahme...</td>\n",
       "      <td>Egypt</td>\n",
       "      <td>\"June 1, 2020\"</td>\n",
       "      <td>2019</td>\n",
       "      <td>95</td>\n",
       "      <td>\"After an awful accident, a couple admitted to...</td>\n",
       "      <td>Horror Movies</td>\n",
       "    </tr>\n",
       "  </tbody>\n",
       "</table>\n",
       "</div>"
      ],
      "text/plain": [
       "  show_id   type  title           director  \\\n",
       "0      s2  Movie   7:19  Jorge Michel Grau   \n",
       "1      s3  Movie  23:59       Gilbert Chan   \n",
       "2      s4  Movie      9        Shane Acker   \n",
       "3      s5  Movie     21     Robert Luketic   \n",
       "5      s7  Movie    122    Yasir Al Yasiri   \n",
       "\n",
       "                                                cast        country  \\\n",
       "0  \"Demián Bichir, Héctor Bonilla, Oscar Serrano,...         Mexico   \n",
       "1  \"Tedd Chan, Stella Chung, Henley Hii, Lawrence...      Singapore   \n",
       "2  \"Elijah Wood, John C. Reilly, Jennifer Connell...  United States   \n",
       "3  \"Jim Sturgess, Kevin Spacey, Kate Bosworth, Aa...  United States   \n",
       "5  \"Amina Khalil, Ahmed Dawood, Tarek Lotfy, Ahme...          Egypt   \n",
       "\n",
       "            date_added  release_year  duration  \\\n",
       "0  \"December 23, 2016\"          2016        93   \n",
       "1  \"December 20, 2018\"          2011        78   \n",
       "2  \"November 16, 2017\"          2009        80   \n",
       "3    \"January 1, 2020\"          2008       123   \n",
       "5       \"June 1, 2020\"          2019        95   \n",
       "\n",
       "                                         description          genre  \n",
       "0  \"After a devastating earthquake hits Mexico Ci...         Dramas  \n",
       "1  \"When an army recruit is found dead, his fello...  Horror Movies  \n",
       "2  \"In a postapocalyptic world, rag-doll robots h...         Action  \n",
       "3  A brilliant group of students become card-coun...         Dramas  \n",
       "5  \"After an awful accident, a couple admitted to...  Horror Movies  "
      ]
     },
     "execution_count": 26,
     "metadata": {},
     "output_type": "execute_result"
    }
   ],
   "source": [
    "movies_2000s = movie[(movie[\"release_year\"] >= 2000) & (movie[\"release_year\"] < 2021)]\n",
    "movies_2000s.head()"
   ]
  },
  {
   "cell_type": "markdown",
   "metadata": {},
   "source": [
    "## Distribution Movies 2000s by Durations"
   ]
  },
  {
   "cell_type": "code",
   "execution_count": 27,
   "metadata": {},
   "outputs": [
    {
     "data": {
      "image/png": "[encoded data removed]",
      "text/plain": [
       "<Figure size 640x480 with 1 Axes>"
      ]
     },
     "metadata": {},
     "output_type": "display_data"
    }
   ],
   "source": [
    "plt.hist(movies_2000s[\"duration\"], color='cyan', edgecolor='black', linewidth=1)\n",
    "plt.title('Distribution of Movie Durations in the 2000s')\n",
    "plt.xlabel('Duration (minutes)')\n",
    "plt.ylabel('Number of Movies')\n",
    "plt.show()"
   ]
  },
  {
   "cell_type": "markdown",
   "metadata": {},
   "source": [
    "## Looking for genres in movies 2000's"
   ]
  },
  {
   "cell_type": "code",
   "execution_count": 28,
   "metadata": {},
   "outputs": [
    {
     "data": {
      "text/plain": [
       "array(['Dramas', 'Horror Movies', 'Action', 'Documentaries',\n",
       "       'Independent Movies', 'Comedies', 'Sci-Fi', 'International Movies',\n",
       "       'Children', 'Uncategorized', 'Thrillers', 'Stand-Up',\n",
       "       'Anime Features', 'Music', 'Cult Movies', 'Romantic Movies',\n",
       "       'Classic Movies', 'LGBTQ Movies'], dtype=object)"
      ]
     },
     "execution_count": 28,
     "metadata": {},
     "output_type": "execute_result"
    }
   ],
   "source": [
    "movies_2000s[\"genre\"].unique()"
   ]
  },
  {
   "cell_type": "code",
   "execution_count": 29,
   "metadata": {},
   "outputs": [
    {
     "data": {
      "image/png": "[encoded data removed]",
      "text/plain": [
       "<Figure size 640x480 with 1 Axes>"
      ]
     },
     "metadata": {},
     "output_type": "display_data"
    }
   ],
   "source": [
    "plt.hist(movies_2000s[\"genre\"], bins= 18, color='cyan', edgecolor='black', linewidth=1)\n",
    "plt.title('Distribution of Movie Genres in the 1990s')\n",
    "plt.xlabel('Genres')\n",
    "plt.ylabel('Number of Movies')\n",
    "plt.show()"
   ]
  },
  {
   "cell_type": "markdown",
   "metadata": {},
   "source": [
    "## Looking Country in Movies_2000s"
   ]
  },
  {
   "cell_type": "code",
   "execution_count": 30,
   "metadata": {},
   "outputs": [
    {
     "data": {
      "text/plain": [
       "array(['Mexico', 'Singapore', 'United States', 'Egypt', 'India',\n",
       "       'Thailand', 'Nigeria', 'Norway', 'South Korea', 'Italy',\n",
       "       'Indonesia', 'Canada', 'Romania', 'Spain', 'Turkey', 'Iceland',\n",
       "       'South Africa', 'France', 'Portugal', 'Hong Kong',\n",
       "       'United Kingdom', 'Argentina', 'Germany', 'Poland', 'Japan',\n",
       "       'Kenya', 'New Zealand', 'Pakistan', 'Australia', 'China', 'Taiwan',\n",
       "       'Netherlands', 'Denmark', 'Philippines', 'United Arab', 'Iran',\n",
       "       'Israel', 'Uruguay', 'Bulgaria', 'Brazil', 'Malaysia', 'Serbia',\n",
       "       'Colombia', 'Ireland', 'Peru', 'Chile', 'Sweden', 'Ghana',\n",
       "       'Saudi Arabia', 'Namibia', 'Belgium', 'Vietnam', 'Russia',\n",
       "       'Lebanon', 'Zimbabwe', 'Hungary', 'Finland', 'Venezuela',\n",
       "       'Cambodia', 'Slovenia', 'Switzerland', 'Kuwait', 'Austria',\n",
       "       'Bangladesh', 'Czech Republic', 'Georgia', 'Guatemala', 'Jamaica',\n",
       "       'Paraguay', 'Somalia', 'Croatia'], dtype=object)"
      ]
     },
     "execution_count": 30,
     "metadata": {},
     "output_type": "execute_result"
    }
   ],
   "source": [
    "movies_2000s[\"country\"].unique()"
   ]
  },
  {
   "cell_type": "code",
   "execution_count": 31,
   "metadata": {},
   "outputs": [
    {
     "data": {
      "text/html": [
       "<div>\n",
       "<style scoped>\n",
       "    .dataframe tbody tr th:only-of-type {\n",
       "        vertical-align: middle;\n",
       "    }\n",
       "\n",
       "    .dataframe tbody tr th {\n",
       "        vertical-align: top;\n",
       "    }\n",
       "\n",
       "    .dataframe thead th {\n",
       "        text-align: right;\n",
       "    }\n",
       "</style>\n",
       "<table border=\"1\" class=\"dataframe\">\n",
       "  <thead>\n",
       "    <tr style=\"text-align: right;\">\n",
       "      <th></th>\n",
       "      <th>show_id</th>\n",
       "      <th>type</th>\n",
       "      <th>title</th>\n",
       "      <th>director</th>\n",
       "      <th>cast</th>\n",
       "      <th>country</th>\n",
       "      <th>date_added</th>\n",
       "      <th>release_year</th>\n",
       "      <th>duration</th>\n",
       "      <th>description</th>\n",
       "      <th>genre</th>\n",
       "    </tr>\n",
       "  </thead>\n",
       "  <tbody>\n",
       "    <tr>\n",
       "      <th>1</th>\n",
       "      <td>s3</td>\n",
       "      <td>Movie</td>\n",
       "      <td>23:59</td>\n",
       "      <td>Gilbert Chan</td>\n",
       "      <td>\"Tedd Chan, Stella Chung, Henley Hii, Lawrence...</td>\n",
       "      <td>Singapore</td>\n",
       "      <td>\"December 20, 2018\"</td>\n",
       "      <td>2011</td>\n",
       "      <td>78</td>\n",
       "      <td>\"When an army recruit is found dead, his fello...</td>\n",
       "      <td>Horror Movies</td>\n",
       "    </tr>\n",
       "    <tr>\n",
       "      <th>10</th>\n",
       "      <td>s14</td>\n",
       "      <td>Movie</td>\n",
       "      <td>\"2,215\"</td>\n",
       "      <td>Nottapon Boonprakob</td>\n",
       "      <td>Artiwara Kongmalai</td>\n",
       "      <td>Thailand</td>\n",
       "      <td>\"March 1, 2019\"</td>\n",
       "      <td>2018</td>\n",
       "      <td>89</td>\n",
       "      <td>\"This intimate documentary follows rock star A...</td>\n",
       "      <td>Documentaries</td>\n",
       "    </tr>\n",
       "    <tr>\n",
       "      <th>21</th>\n",
       "      <td>s32</td>\n",
       "      <td>Movie</td>\n",
       "      <td>#FriendButMarried</td>\n",
       "      <td>Rako Prijanto</td>\n",
       "      <td>\"Adipati Dolken, Vanesha Prescilla, Rendi Jhon...</td>\n",
       "      <td>Indonesia</td>\n",
       "      <td>\"May 21, 2020\"</td>\n",
       "      <td>2018</td>\n",
       "      <td>102</td>\n",
       "      <td>\"Pining for his high school crush for years, a...</td>\n",
       "      <td>Dramas</td>\n",
       "    </tr>\n",
       "    <tr>\n",
       "      <th>22</th>\n",
       "      <td>s33</td>\n",
       "      <td>Movie</td>\n",
       "      <td>#FriendButMarried 2</td>\n",
       "      <td>Rako Prijanto</td>\n",
       "      <td>\"Adipati Dolken, Mawar de Jongh, Sari Nila, Vo...</td>\n",
       "      <td>Indonesia</td>\n",
       "      <td>\"June 28, 2020\"</td>\n",
       "      <td>2020</td>\n",
       "      <td>104</td>\n",
       "      <td>\"As Ayu and Ditto finally transition from best...</td>\n",
       "      <td>Dramas</td>\n",
       "    </tr>\n",
       "    <tr>\n",
       "      <th>39</th>\n",
       "      <td>s58</td>\n",
       "      <td>Movie</td>\n",
       "      <td>100% Halal</td>\n",
       "      <td>Jastis Arimba</td>\n",
       "      <td>\"Anisa Rahma, Ariyo Wahab, Anandito Dwis, Fitr...</td>\n",
       "      <td>Indonesia</td>\n",
       "      <td>\"January 7, 2021\"</td>\n",
       "      <td>2020</td>\n",
       "      <td>101</td>\n",
       "      <td>\"After high school, a young woman marries the ...</td>\n",
       "      <td>Dramas</td>\n",
       "    </tr>\n",
       "    <tr>\n",
       "      <th>...</th>\n",
       "      <td>...</td>\n",
       "      <td>...</td>\n",
       "      <td>...</td>\n",
       "      <td>...</td>\n",
       "      <td>...</td>\n",
       "      <td>...</td>\n",
       "      <td>...</td>\n",
       "      <td>...</td>\n",
       "      <td>...</td>\n",
       "      <td>...</td>\n",
       "      <td>...</td>\n",
       "    </tr>\n",
       "    <tr>\n",
       "      <th>4764</th>\n",
       "      <td>s7707</td>\n",
       "      <td>Movie</td>\n",
       "      <td>Yes or No</td>\n",
       "      <td>Saratswadee Wongsomphet</td>\n",
       "      <td>\"Sushar Manaying, Supanart Jittaleela, Arisara...</td>\n",
       "      <td>Thailand</td>\n",
       "      <td>\"December 6, 2018\"</td>\n",
       "      <td>2010</td>\n",
       "      <td>111</td>\n",
       "      <td>\"Traditional girl Pie is initially uncomfortab...</td>\n",
       "      <td>International Movies</td>\n",
       "    </tr>\n",
       "    <tr>\n",
       "      <th>4765</th>\n",
       "      <td>s7708</td>\n",
       "      <td>Movie</td>\n",
       "      <td>Yes or No 2</td>\n",
       "      <td>Saratswadee Wongsomphet</td>\n",
       "      <td>\"Supanart Jittaleela, Sushar Manaying, Nisa Bo...</td>\n",
       "      <td>Thailand</td>\n",
       "      <td>\"November 8, 2018\"</td>\n",
       "      <td>2012</td>\n",
       "      <td>112</td>\n",
       "      <td>\"No longer university girls, Kim and Pie face ...</td>\n",
       "      <td>International Movies</td>\n",
       "    </tr>\n",
       "    <tr>\n",
       "      <th>4766</th>\n",
       "      <td>s7709</td>\n",
       "      <td>Movie</td>\n",
       "      <td>Yes or No 2.5</td>\n",
       "      <td>Kirati Nakintanon</td>\n",
       "      <td>\"Supanart Jittaleela, Pimpakan Bangchawong, Ch...</td>\n",
       "      <td>Thailand</td>\n",
       "      <td>\"November 8, 2018\"</td>\n",
       "      <td>2015</td>\n",
       "      <td>107</td>\n",
       "      <td>\"Roommates Wine and Pie find their lives turne...</td>\n",
       "      <td>International Movies</td>\n",
       "    </tr>\n",
       "    <tr>\n",
       "      <th>4776</th>\n",
       "      <td>s7728</td>\n",
       "      <td>Movie</td>\n",
       "      <td>You Changed My Life</td>\n",
       "      <td>Cathy Garcia-Molina</td>\n",
       "      <td>\"John Lloyd Cruz, Sarah Geronimo, Rayver Cruz,...</td>\n",
       "      <td>Philippines</td>\n",
       "      <td>\"February 27, 2019\"</td>\n",
       "      <td>2009</td>\n",
       "      <td>116</td>\n",
       "      <td>\"Laida and Miggy think they've found perfect h...</td>\n",
       "      <td>Comedies</td>\n",
       "    </tr>\n",
       "    <tr>\n",
       "      <th>4780</th>\n",
       "      <td>s7733</td>\n",
       "      <td>Movie</td>\n",
       "      <td>You're My Boss</td>\n",
       "      <td>Antoinette Jadaone</td>\n",
       "      <td>\"Toni Gonzaga, Coco Martin, Freddie Webb, JM d...</td>\n",
       "      <td>Philippines</td>\n",
       "      <td>\"September 4, 2020\"</td>\n",
       "      <td>2015</td>\n",
       "      <td>117</td>\n",
       "      <td>\"Pong, a corporate assistant, poses as his com...</td>\n",
       "      <td>Comedies</td>\n",
       "    </tr>\n",
       "  </tbody>\n",
       "</table>\n",
       "<p>214 rows × 11 columns</p>\n",
       "</div>"
      ],
      "text/plain": [
       "     show_id   type                title                 director  \\\n",
       "1         s3  Movie                23:59             Gilbert Chan   \n",
       "10       s14  Movie              \"2,215\"      Nottapon Boonprakob   \n",
       "21       s32  Movie    #FriendButMarried            Rako Prijanto   \n",
       "22       s33  Movie  #FriendButMarried 2            Rako Prijanto   \n",
       "39       s58  Movie           100% Halal            Jastis Arimba   \n",
       "...      ...    ...                  ...                      ...   \n",
       "4764   s7707  Movie            Yes or No  Saratswadee Wongsomphet   \n",
       "4765   s7708  Movie          Yes or No 2  Saratswadee Wongsomphet   \n",
       "4766   s7709  Movie        Yes or No 2.5        Kirati Nakintanon   \n",
       "4776   s7728  Movie  You Changed My Life      Cathy Garcia-Molina   \n",
       "4780   s7733  Movie       You're My Boss       Antoinette Jadaone   \n",
       "\n",
       "                                                   cast      country  \\\n",
       "1     \"Tedd Chan, Stella Chung, Henley Hii, Lawrence...    Singapore   \n",
       "10                                   Artiwara Kongmalai     Thailand   \n",
       "21    \"Adipati Dolken, Vanesha Prescilla, Rendi Jhon...    Indonesia   \n",
       "22    \"Adipati Dolken, Mawar de Jongh, Sari Nila, Vo...    Indonesia   \n",
       "39    \"Anisa Rahma, Ariyo Wahab, Anandito Dwis, Fitr...    Indonesia   \n",
       "...                                                 ...          ...   \n",
       "4764  \"Sushar Manaying, Supanart Jittaleela, Arisara...     Thailand   \n",
       "4765  \"Supanart Jittaleela, Sushar Manaying, Nisa Bo...     Thailand   \n",
       "4766  \"Supanart Jittaleela, Pimpakan Bangchawong, Ch...     Thailand   \n",
       "4776  \"John Lloyd Cruz, Sarah Geronimo, Rayver Cruz,...  Philippines   \n",
       "4780  \"Toni Gonzaga, Coco Martin, Freddie Webb, JM d...  Philippines   \n",
       "\n",
       "               date_added  release_year  duration  \\\n",
       "1     \"December 20, 2018\"          2011        78   \n",
       "10        \"March 1, 2019\"          2018        89   \n",
       "21         \"May 21, 2020\"          2018       102   \n",
       "22        \"June 28, 2020\"          2020       104   \n",
       "39      \"January 7, 2021\"          2020       101   \n",
       "...                   ...           ...       ...   \n",
       "4764   \"December 6, 2018\"          2010       111   \n",
       "4765   \"November 8, 2018\"          2012       112   \n",
       "4766   \"November 8, 2018\"          2015       107   \n",
       "4776  \"February 27, 2019\"          2009       116   \n",
       "4780  \"September 4, 2020\"          2015       117   \n",
       "\n",
       "                                            description                 genre  \n",
       "1     \"When an army recruit is found dead, his fello...         Horror Movies  \n",
       "10    \"This intimate documentary follows rock star A...         Documentaries  \n",
       "21    \"Pining for his high school crush for years, a...                Dramas  \n",
       "22    \"As Ayu and Ditto finally transition from best...                Dramas  \n",
       "39    \"After high school, a young woman marries the ...                Dramas  \n",
       "...                                                 ...                   ...  \n",
       "4764  \"Traditional girl Pie is initially uncomfortab...  International Movies  \n",
       "4765  \"No longer university girls, Kim and Pie face ...  International Movies  \n",
       "4766  \"Roommates Wine and Pie find their lives turne...  International Movies  \n",
       "4776  \"Laida and Miggy think they've found perfect h...              Comedies  \n",
       "4780  \"Pong, a corporate assistant, poses as his com...              Comedies  \n",
       "\n",
       "[214 rows x 11 columns]"
      ]
     },
     "execution_count": 31,
     "metadata": {},
     "output_type": "execute_result"
    }
   ],
   "source": [
    "southeast_asia = movies_2000s[movies_2000s[\"country\"].isin([\"Singapore\", \"Thailand\", \"Indonesia\", \"Philippines\", \"Malaysia\", \"Vietnam\",])]\n",
    "southeast_asia"
   ]
  },
  {
   "cell_type": "code",
   "execution_count": 32,
   "metadata": {},
   "outputs": [
    {
     "data": {
      "image/png": "[encoded data removed]",
      "text/plain": [
       "<Figure size 640x480 with 1 Axes>"
      ]
     },
     "metadata": {},
     "output_type": "display_data"
    }
   ],
   "source": [
    "# Total Southeast Asia Movies\n",
    "plt.hist(southeast_asia[\"country\"], color='skyblue', bins= 6, edgecolor='black', linewidth=1)\n",
    "plt.title('Distribution of Movie Southeast Asia')\n",
    "plt.xlabel('Country')\n",
    "plt.ylabel('Number of Movies')\n",
    "plt.show()"
   ]
  },
  {
   "cell_type": "markdown",
   "metadata": {},
   "source": [
    "## Filtering by Genre in Movie Type"
   ]
  },
  {
   "cell_type": "code",
   "execution_count": 33,
   "metadata": {},
   "outputs": [
    {
     "data": {
      "text/html": [
       "<div>\n",
       "<style scoped>\n",
       "    .dataframe tbody tr th:only-of-type {\n",
       "        vertical-align: middle;\n",
       "    }\n",
       "\n",
       "    .dataframe tbody tr th {\n",
       "        vertical-align: top;\n",
       "    }\n",
       "\n",
       "    .dataframe thead th {\n",
       "        text-align: right;\n",
       "    }\n",
       "</style>\n",
       "<table border=\"1\" class=\"dataframe\">\n",
       "  <thead>\n",
       "    <tr style=\"text-align: right;\">\n",
       "      <th></th>\n",
       "      <th>show_id</th>\n",
       "      <th>type</th>\n",
       "      <th>title</th>\n",
       "      <th>director</th>\n",
       "      <th>cast</th>\n",
       "      <th>country</th>\n",
       "      <th>date_added</th>\n",
       "      <th>release_year</th>\n",
       "      <th>duration</th>\n",
       "      <th>description</th>\n",
       "      <th>genre</th>\n",
       "    </tr>\n",
       "  </thead>\n",
       "  <tbody>\n",
       "    <tr>\n",
       "      <th>0</th>\n",
       "      <td>s2</td>\n",
       "      <td>Movie</td>\n",
       "      <td>7:19</td>\n",
       "      <td>Jorge Michel Grau</td>\n",
       "      <td>\"Demián Bichir, Héctor Bonilla, Oscar Serrano,...</td>\n",
       "      <td>Mexico</td>\n",
       "      <td>\"December 23, 2016\"</td>\n",
       "      <td>2016</td>\n",
       "      <td>93</td>\n",
       "      <td>\"After a devastating earthquake hits Mexico Ci...</td>\n",
       "      <td>Dramas</td>\n",
       "    </tr>\n",
       "    <tr>\n",
       "      <th>3</th>\n",
       "      <td>s5</td>\n",
       "      <td>Movie</td>\n",
       "      <td>21</td>\n",
       "      <td>Robert Luketic</td>\n",
       "      <td>\"Jim Sturgess, Kevin Spacey, Kate Bosworth, Aa...</td>\n",
       "      <td>United States</td>\n",
       "      <td>\"January 1, 2020\"</td>\n",
       "      <td>2008</td>\n",
       "      <td>123</td>\n",
       "      <td>A brilliant group of students become card-coun...</td>\n",
       "      <td>Dramas</td>\n",
       "    </tr>\n",
       "    <tr>\n",
       "      <th>9</th>\n",
       "      <td>s11</td>\n",
       "      <td>Movie</td>\n",
       "      <td>1922</td>\n",
       "      <td>Zak Hilditch</td>\n",
       "      <td>\"Thomas Jane, Molly Parker, Dylan Schmid, Kait...</td>\n",
       "      <td>United States</td>\n",
       "      <td>\"October 20, 2017\"</td>\n",
       "      <td>2017</td>\n",
       "      <td>103</td>\n",
       "      <td>\"A farmer pens a confession admitting to his w...</td>\n",
       "      <td>Dramas</td>\n",
       "    </tr>\n",
       "    <tr>\n",
       "      <th>12</th>\n",
       "      <td>s16</td>\n",
       "      <td>Movie</td>\n",
       "      <td>Oct-01</td>\n",
       "      <td>Kunle Afolayan</td>\n",
       "      <td>\"Sadiq Daba, David Bailie, Kayode Olaiya, Kehi...</td>\n",
       "      <td>Nigeria</td>\n",
       "      <td>\"September 1, 2019\"</td>\n",
       "      <td>2014</td>\n",
       "      <td>149</td>\n",
       "      <td>\"Against the backdrop of Nigeria's looming ind...</td>\n",
       "      <td>Dramas</td>\n",
       "    </tr>\n",
       "    <tr>\n",
       "      <th>13</th>\n",
       "      <td>s18</td>\n",
       "      <td>Movie</td>\n",
       "      <td>22-Jul</td>\n",
       "      <td>Paul Greengrass</td>\n",
       "      <td>\"Anders Danielsen Lie, Jon Øigarden, Jonas Str...</td>\n",
       "      <td>Norway</td>\n",
       "      <td>\"October 10, 2018\"</td>\n",
       "      <td>2018</td>\n",
       "      <td>144</td>\n",
       "      <td>\"After devastating terror attacks in Norway, a...</td>\n",
       "      <td>Dramas</td>\n",
       "    </tr>\n",
       "  </tbody>\n",
       "</table>\n",
       "</div>"
      ],
      "text/plain": [
       "   show_id   type   title           director  \\\n",
       "0       s2  Movie    7:19  Jorge Michel Grau   \n",
       "3       s5  Movie      21     Robert Luketic   \n",
       "9      s11  Movie    1922       Zak Hilditch   \n",
       "12     s16  Movie  Oct-01     Kunle Afolayan   \n",
       "13     s18  Movie  22-Jul    Paul Greengrass   \n",
       "\n",
       "                                                 cast        country  \\\n",
       "0   \"Demián Bichir, Héctor Bonilla, Oscar Serrano,...         Mexico   \n",
       "3   \"Jim Sturgess, Kevin Spacey, Kate Bosworth, Aa...  United States   \n",
       "9   \"Thomas Jane, Molly Parker, Dylan Schmid, Kait...  United States   \n",
       "12  \"Sadiq Daba, David Bailie, Kayode Olaiya, Kehi...        Nigeria   \n",
       "13  \"Anders Danielsen Lie, Jon Øigarden, Jonas Str...         Norway   \n",
       "\n",
       "             date_added  release_year  duration  \\\n",
       "0   \"December 23, 2016\"          2016        93   \n",
       "3     \"January 1, 2020\"          2008       123   \n",
       "9    \"October 20, 2017\"          2017       103   \n",
       "12  \"September 1, 2019\"          2014       149   \n",
       "13   \"October 10, 2018\"          2018       144   \n",
       "\n",
       "                                          description   genre  \n",
       "0   \"After a devastating earthquake hits Mexico Ci...  Dramas  \n",
       "3   A brilliant group of students become card-coun...  Dramas  \n",
       "9   \"A farmer pens a confession admitting to his w...  Dramas  \n",
       "12  \"Against the backdrop of Nigeria's looming ind...  Dramas  \n",
       "13  \"After devastating terror attacks in Norway, a...  Dramas  "
      ]
     },
     "execution_count": 33,
     "metadata": {},
     "output_type": "execute_result"
    }
   ],
   "source": [
    "dramas_movies_2000s = movies_2000s[movies_2000s[\"genre\"] == \"Dramas\"]\n",
    "dramas_movies_2000s.head()"
   ]
  },
  {
   "cell_type": "code",
   "execution_count": 34,
   "metadata": {},
   "outputs": [
    {
     "data": {
      "text/html": [
       "<div>\n",
       "<style scoped>\n",
       "    .dataframe tbody tr th:only-of-type {\n",
       "        vertical-align: middle;\n",
       "    }\n",
       "\n",
       "    .dataframe tbody tr th {\n",
       "        vertical-align: top;\n",
       "    }\n",
       "\n",
       "    .dataframe thead th {\n",
       "        text-align: right;\n",
       "    }\n",
       "</style>\n",
       "<table border=\"1\" class=\"dataframe\">\n",
       "  <thead>\n",
       "    <tr style=\"text-align: right;\">\n",
       "      <th></th>\n",
       "      <th>show_id</th>\n",
       "      <th>type</th>\n",
       "      <th>title</th>\n",
       "      <th>director</th>\n",
       "      <th>cast</th>\n",
       "      <th>country</th>\n",
       "      <th>date_added</th>\n",
       "      <th>release_year</th>\n",
       "      <th>duration</th>\n",
       "      <th>description</th>\n",
       "      <th>genre</th>\n",
       "    </tr>\n",
       "  </thead>\n",
       "  <tbody>\n",
       "    <tr>\n",
       "      <th>14</th>\n",
       "      <td>s19</td>\n",
       "      <td>Movie</td>\n",
       "      <td>15-Aug</td>\n",
       "      <td>Swapnaneel Jayakar</td>\n",
       "      <td>\"Rahul Pethe, Mrunmayee Deshpande, Adinath Kot...</td>\n",
       "      <td>India</td>\n",
       "      <td>\"March 29, 2019\"</td>\n",
       "      <td>2019</td>\n",
       "      <td>124</td>\n",
       "      <td>\"On India's Independence Day, a zany mishap in...</td>\n",
       "      <td>Comedies</td>\n",
       "    </tr>\n",
       "    <tr>\n",
       "      <th>23</th>\n",
       "      <td>s34</td>\n",
       "      <td>Movie</td>\n",
       "      <td>#realityhigh</td>\n",
       "      <td>Fernando Lebrija</td>\n",
       "      <td>\"Nesta Cooper, Kate Walsh, John Michael Higgin...</td>\n",
       "      <td>United States</td>\n",
       "      <td>\"September 8, 2017\"</td>\n",
       "      <td>2017</td>\n",
       "      <td>99</td>\n",
       "      <td>\"When nerdy high schooler Dani finally attract...</td>\n",
       "      <td>Comedies</td>\n",
       "    </tr>\n",
       "    <tr>\n",
       "      <th>24</th>\n",
       "      <td>s35</td>\n",
       "      <td>Movie</td>\n",
       "      <td>#Roxy</td>\n",
       "      <td>Michael Kennedy</td>\n",
       "      <td>\"Jake Short, Sarah Fisher, Booboo Stewart, Dan...</td>\n",
       "      <td>Canada</td>\n",
       "      <td>\"April 10, 2019\"</td>\n",
       "      <td>2018</td>\n",
       "      <td>105</td>\n",
       "      <td>A teenage hacker with a huge nose helps a cool...</td>\n",
       "      <td>Comedies</td>\n",
       "    </tr>\n",
       "    <tr>\n",
       "      <th>25</th>\n",
       "      <td>s37</td>\n",
       "      <td>Movie</td>\n",
       "      <td>#Selfie</td>\n",
       "      <td>Cristina Jacob</td>\n",
       "      <td>\"Flavia Hojda, Crina Semciuc, Olimpia Melinte,...</td>\n",
       "      <td>Romania</td>\n",
       "      <td>\"June 1, 2019\"</td>\n",
       "      <td>2014</td>\n",
       "      <td>125</td>\n",
       "      <td>\"Two days before their final exams, three teen...</td>\n",
       "      <td>Comedies</td>\n",
       "    </tr>\n",
       "    <tr>\n",
       "      <th>26</th>\n",
       "      <td>s38</td>\n",
       "      <td>Movie</td>\n",
       "      <td>#Selfie 69</td>\n",
       "      <td>Cristina Jacob</td>\n",
       "      <td>\"Maia Morgenstern, Olimpia Melinte, Crina Semc...</td>\n",
       "      <td>Romania</td>\n",
       "      <td>\"June 1, 2019\"</td>\n",
       "      <td>2016</td>\n",
       "      <td>119</td>\n",
       "      <td>\"After a painful breakup, a trio of party-lovi...</td>\n",
       "      <td>Comedies</td>\n",
       "    </tr>\n",
       "  </tbody>\n",
       "</table>\n",
       "</div>"
      ],
      "text/plain": [
       "   show_id   type         title            director  \\\n",
       "14     s19  Movie        15-Aug  Swapnaneel Jayakar   \n",
       "23     s34  Movie  #realityhigh    Fernando Lebrija   \n",
       "24     s35  Movie         #Roxy     Michael Kennedy   \n",
       "25     s37  Movie       #Selfie      Cristina Jacob   \n",
       "26     s38  Movie    #Selfie 69      Cristina Jacob   \n",
       "\n",
       "                                                 cast        country  \\\n",
       "14  \"Rahul Pethe, Mrunmayee Deshpande, Adinath Kot...          India   \n",
       "23  \"Nesta Cooper, Kate Walsh, John Michael Higgin...  United States   \n",
       "24  \"Jake Short, Sarah Fisher, Booboo Stewart, Dan...         Canada   \n",
       "25  \"Flavia Hojda, Crina Semciuc, Olimpia Melinte,...        Romania   \n",
       "26  \"Maia Morgenstern, Olimpia Melinte, Crina Semc...        Romania   \n",
       "\n",
       "             date_added  release_year  duration  \\\n",
       "14     \"March 29, 2019\"          2019       124   \n",
       "23  \"September 8, 2017\"          2017        99   \n",
       "24     \"April 10, 2019\"          2018       105   \n",
       "25       \"June 1, 2019\"          2014       125   \n",
       "26       \"June 1, 2019\"          2016       119   \n",
       "\n",
       "                                          description     genre  \n",
       "14  \"On India's Independence Day, a zany mishap in...  Comedies  \n",
       "23  \"When nerdy high schooler Dani finally attract...  Comedies  \n",
       "24  A teenage hacker with a huge nose helps a cool...  Comedies  \n",
       "25  \"Two days before their final exams, three teen...  Comedies  \n",
       "26  \"After a painful breakup, a trio of party-lovi...  Comedies  "
      ]
     },
     "execution_count": 34,
     "metadata": {},
     "output_type": "execute_result"
    }
   ],
   "source": [
    "comedies_movies_2000s = movies_2000s[movies_2000s[\"genre\"] == \"Comedies\"]\n",
    "comedies_movies_2000s.head()"
   ]
  },
  {
   "cell_type": "code",
   "execution_count": 35,
   "metadata": {},
   "outputs": [
    {
     "data": {
      "text/html": [
       "<div>\n",
       "<style scoped>\n",
       "    .dataframe tbody tr th:only-of-type {\n",
       "        vertical-align: middle;\n",
       "    }\n",
       "\n",
       "    .dataframe tbody tr th {\n",
       "        vertical-align: top;\n",
       "    }\n",
       "\n",
       "    .dataframe thead th {\n",
       "        text-align: right;\n",
       "    }\n",
       "</style>\n",
       "<table border=\"1\" class=\"dataframe\">\n",
       "  <thead>\n",
       "    <tr style=\"text-align: right;\">\n",
       "      <th></th>\n",
       "      <th>show_id</th>\n",
       "      <th>type</th>\n",
       "      <th>title</th>\n",
       "      <th>director</th>\n",
       "      <th>cast</th>\n",
       "      <th>country</th>\n",
       "      <th>date_added</th>\n",
       "      <th>release_year</th>\n",
       "      <th>duration</th>\n",
       "      <th>description</th>\n",
       "      <th>genre</th>\n",
       "    </tr>\n",
       "  </thead>\n",
       "  <tbody>\n",
       "    <tr>\n",
       "      <th>2</th>\n",
       "      <td>s4</td>\n",
       "      <td>Movie</td>\n",
       "      <td>9</td>\n",
       "      <td>Shane Acker</td>\n",
       "      <td>\"Elijah Wood, John C. Reilly, Jennifer Connell...</td>\n",
       "      <td>United States</td>\n",
       "      <td>\"November 16, 2017\"</td>\n",
       "      <td>2009</td>\n",
       "      <td>80</td>\n",
       "      <td>\"In a postapocalyptic world, rag-doll robots h...</td>\n",
       "      <td>Action</td>\n",
       "    </tr>\n",
       "    <tr>\n",
       "      <th>16</th>\n",
       "      <td>s22</td>\n",
       "      <td>Movie</td>\n",
       "      <td>​Goli Soda 2</td>\n",
       "      <td>Vijay Milton</td>\n",
       "      <td>\"Samuthirakani, Bharath Seeni, Vinoth, Esakki ...</td>\n",
       "      <td>India</td>\n",
       "      <td>\"September 15, 2018\"</td>\n",
       "      <td>2018</td>\n",
       "      <td>128</td>\n",
       "      <td>\"A taxi driver, a gangster and an athlete stru...</td>\n",
       "      <td>Action</td>\n",
       "    </tr>\n",
       "    <tr>\n",
       "      <th>32</th>\n",
       "      <td>s45</td>\n",
       "      <td>Movie</td>\n",
       "      <td>Æon Flux</td>\n",
       "      <td>Karyn Kusama</td>\n",
       "      <td>\"Charlize Theron, Marton Csokas, Jonny Lee Mil...</td>\n",
       "      <td>United States</td>\n",
       "      <td>\"February 1, 2018\"</td>\n",
       "      <td>2005</td>\n",
       "      <td>93</td>\n",
       "      <td>\"Aiming to hasten an uprising, the leader of a...</td>\n",
       "      <td>Action</td>\n",
       "    </tr>\n",
       "    <tr>\n",
       "      <th>37</th>\n",
       "      <td>s51</td>\n",
       "      <td>Movie</td>\n",
       "      <td>\"10,000 B.C.\"</td>\n",
       "      <td>Roland Emmerich</td>\n",
       "      <td>\"Steven Strait, Camilla Belle, Cliff Curtis, J...</td>\n",
       "      <td>United States</td>\n",
       "      <td>\"June 1, 2019\"</td>\n",
       "      <td>2008</td>\n",
       "      <td>109</td>\n",
       "      <td>Fierce mammoth hunter D'Leh sets out on an imp...</td>\n",
       "      <td>Action</td>\n",
       "    </tr>\n",
       "    <tr>\n",
       "      <th>44</th>\n",
       "      <td>s69</td>\n",
       "      <td>Movie</td>\n",
       "      <td>14 Blades</td>\n",
       "      <td>Daniel Lee</td>\n",
       "      <td>\"Donnie Yen, Zhao Wei, Wu Chun, Law Kar-Ying, ...</td>\n",
       "      <td>Hong Kong</td>\n",
       "      <td>\"April 3, 2019\"</td>\n",
       "      <td>2010</td>\n",
       "      <td>113</td>\n",
       "      <td>\"In the age of the Ming Dynasty, Quinglong is ...</td>\n",
       "      <td>Action</td>\n",
       "    </tr>\n",
       "  </tbody>\n",
       "</table>\n",
       "</div>"
      ],
      "text/plain": [
       "   show_id   type          title         director  \\\n",
       "2       s4  Movie              9      Shane Acker   \n",
       "16     s22  Movie   ​Goli Soda 2     Vijay Milton   \n",
       "32     s45  Movie       Æon Flux     Karyn Kusama   \n",
       "37     s51  Movie  \"10,000 B.C.\"  Roland Emmerich   \n",
       "44     s69  Movie      14 Blades       Daniel Lee   \n",
       "\n",
       "                                                 cast        country  \\\n",
       "2   \"Elijah Wood, John C. Reilly, Jennifer Connell...  United States   \n",
       "16  \"Samuthirakani, Bharath Seeni, Vinoth, Esakki ...          India   \n",
       "32  \"Charlize Theron, Marton Csokas, Jonny Lee Mil...  United States   \n",
       "37  \"Steven Strait, Camilla Belle, Cliff Curtis, J...  United States   \n",
       "44  \"Donnie Yen, Zhao Wei, Wu Chun, Law Kar-Ying, ...      Hong Kong   \n",
       "\n",
       "              date_added  release_year  duration  \\\n",
       "2    \"November 16, 2017\"          2009        80   \n",
       "16  \"September 15, 2018\"          2018       128   \n",
       "32    \"February 1, 2018\"          2005        93   \n",
       "37        \"June 1, 2019\"          2008       109   \n",
       "44       \"April 3, 2019\"          2010       113   \n",
       "\n",
       "                                          description   genre  \n",
       "2   \"In a postapocalyptic world, rag-doll robots h...  Action  \n",
       "16  \"A taxi driver, a gangster and an athlete stru...  Action  \n",
       "32  \"Aiming to hasten an uprising, the leader of a...  Action  \n",
       "37  Fierce mammoth hunter D'Leh sets out on an imp...  Action  \n",
       "44  \"In the age of the Ming Dynasty, Quinglong is ...  Action  "
      ]
     },
     "execution_count": 35,
     "metadata": {},
     "output_type": "execute_result"
    }
   ],
   "source": [
    "action_movies_2000s = movies_2000s[movies_2000s[\"genre\"] == \"Action\"]\n",
    "action_movies_2000s.head()"
   ]
  },
  {
   "cell_type": "markdown",
   "metadata": {},
   "source": [
    "## Looping for Duration 90 in 3 Highest Genres in Movies 2000s"
   ]
  },
  {
   "cell_type": "code",
   "execution_count": 36,
   "metadata": {},
   "outputs": [
    {
     "name": "stdout",
     "output_type": "stream",
     "text": [
      "Jumlah dramas movies berdurasi 90 menit: 26\n"
     ]
    }
   ],
   "source": [
    "# Loop for duration 90 in movie dramas\n",
    "doc_90_count = 0\n",
    "for label, row in dramas_movies_2000s.iterrows() :\n",
    "    if row[\"duration\"] == 90 :\n",
    "        doc_90_count= doc_90_count + 1\n",
    "    else:\n",
    "        doc_90_count= doc_90_count\n",
    "\n",
    "print(\"Jumlah dramas movies berdurasi 90 menit: \" + str(doc_90_count))"
   ]
  },
  {
   "cell_type": "code",
   "execution_count": 37,
   "metadata": {},
   "outputs": [
    {
     "name": "stdout",
     "output_type": "stream",
     "text": [
      "Jumlah comedies movies berdurasi 90 menit: 16\n"
     ]
    }
   ],
   "source": [
    "# Loop for duration 90 in movie comedies\n",
    "doc_90_count = 0\n",
    "for label, row in comedies_movies_2000s.iterrows() :\n",
    "    if row[\"duration\"] == 90 :\n",
    "        doc_90_count= doc_90_count + 1\n",
    "    else:\n",
    "        doc_90_count= doc_90_count\n",
    "\n",
    "print(\"Jumlah comedies movies berdurasi 90 menit: \" + str(doc_90_count))"
   ]
  },
  {
   "cell_type": "code",
   "execution_count": 38,
   "metadata": {},
   "outputs": [
    {
     "name": "stdout",
     "output_type": "stream",
     "text": [
      "Jumlah action movies berdurasi 90 menit: 10\n"
     ]
    }
   ],
   "source": [
    "# Loop for duration 90 in movie actions\n",
    "doc_90_count = 0\n",
    "for label, row in action_movies_2000s.iterrows() :\n",
    "    if row[\"duration\"] == 90 :\n",
    "        doc_90_count= doc_90_count + 1\n",
    "    else:\n",
    "        doc_90_count= doc_90_count\n",
    "\n",
    "print(\"Jumlah action movies berdurasi 90 menit: \" + str(doc_90_count))"
   ]
  },
  {
   "cell_type": "markdown",
   "metadata": {},
   "source": [
    "# Movies Indonesian Only"
   ]
  },
  {
   "cell_type": "code",
   "execution_count": 39,
   "metadata": {},
   "outputs": [
    {
     "data": {
      "text/html": [
       "<div>\n",
       "<style scoped>\n",
       "    .dataframe tbody tr th:only-of-type {\n",
       "        vertical-align: middle;\n",
       "    }\n",
       "\n",
       "    .dataframe tbody tr th {\n",
       "        vertical-align: top;\n",
       "    }\n",
       "\n",
       "    .dataframe thead th {\n",
       "        text-align: right;\n",
       "    }\n",
       "</style>\n",
       "<table border=\"1\" class=\"dataframe\">\n",
       "  <thead>\n",
       "    <tr style=\"text-align: right;\">\n",
       "      <th></th>\n",
       "      <th>release_year</th>\n",
       "      <th>duration</th>\n",
       "    </tr>\n",
       "  </thead>\n",
       "  <tbody>\n",
       "    <tr>\n",
       "      <th>count</th>\n",
       "      <td>4812.000000</td>\n",
       "      <td>4812.000000</td>\n",
       "    </tr>\n",
       "    <tr>\n",
       "      <th>mean</th>\n",
       "      <td>2012.711554</td>\n",
       "      <td>99.566708</td>\n",
       "    </tr>\n",
       "    <tr>\n",
       "      <th>std</th>\n",
       "      <td>9.517978</td>\n",
       "      <td>30.889305</td>\n",
       "    </tr>\n",
       "    <tr>\n",
       "      <th>min</th>\n",
       "      <td>1942.000000</td>\n",
       "      <td>1.000000</td>\n",
       "    </tr>\n",
       "    <tr>\n",
       "      <th>25%</th>\n",
       "      <td>2011.000000</td>\n",
       "      <td>88.000000</td>\n",
       "    </tr>\n",
       "    <tr>\n",
       "      <th>50%</th>\n",
       "      <td>2016.000000</td>\n",
       "      <td>99.000000</td>\n",
       "    </tr>\n",
       "    <tr>\n",
       "      <th>75%</th>\n",
       "      <td>2018.000000</td>\n",
       "      <td>116.000000</td>\n",
       "    </tr>\n",
       "    <tr>\n",
       "      <th>max</th>\n",
       "      <td>2021.000000</td>\n",
       "      <td>253.000000</td>\n",
       "    </tr>\n",
       "  </tbody>\n",
       "</table>\n",
       "</div>"
      ],
      "text/plain": [
       "       release_year     duration\n",
       "count   4812.000000  4812.000000\n",
       "mean    2012.711554    99.566708\n",
       "std        9.517978    30.889305\n",
       "min     1942.000000     1.000000\n",
       "25%     2011.000000    88.000000\n",
       "50%     2016.000000    99.000000\n",
       "75%     2018.000000   116.000000\n",
       "max     2021.000000   253.000000"
      ]
     },
     "execution_count": 39,
     "metadata": {},
     "output_type": "execute_result"
    }
   ],
   "source": [
    "netflix_df.describe()"
   ]
  },
  {
   "cell_type": "code",
   "execution_count": 40,
   "metadata": {},
   "outputs": [
    {
     "data": {
      "text/html": [
       "<div>\n",
       "<style scoped>\n",
       "    .dataframe tbody tr th:only-of-type {\n",
       "        vertical-align: middle;\n",
       "    }\n",
       "\n",
       "    .dataframe tbody tr th {\n",
       "        vertical-align: top;\n",
       "    }\n",
       "\n",
       "    .dataframe thead th {\n",
       "        text-align: right;\n",
       "    }\n",
       "</style>\n",
       "<table border=\"1\" class=\"dataframe\">\n",
       "  <thead>\n",
       "    <tr style=\"text-align: right;\">\n",
       "      <th></th>\n",
       "      <th>show_id</th>\n",
       "      <th>type</th>\n",
       "      <th>title</th>\n",
       "      <th>director</th>\n",
       "      <th>cast</th>\n",
       "      <th>country</th>\n",
       "      <th>date_added</th>\n",
       "      <th>release_year</th>\n",
       "      <th>duration</th>\n",
       "      <th>description</th>\n",
       "      <th>genre</th>\n",
       "    </tr>\n",
       "  </thead>\n",
       "  <tbody>\n",
       "    <tr>\n",
       "      <th>21</th>\n",
       "      <td>s32</td>\n",
       "      <td>Movie</td>\n",
       "      <td>#FriendButMarried</td>\n",
       "      <td>Rako Prijanto</td>\n",
       "      <td>\"Adipati Dolken, Vanesha Prescilla, Rendi Jhon...</td>\n",
       "      <td>Indonesia</td>\n",
       "      <td>\"May 21, 2020\"</td>\n",
       "      <td>2018</td>\n",
       "      <td>102</td>\n",
       "      <td>\"Pining for his high school crush for years, a...</td>\n",
       "      <td>Dramas</td>\n",
       "    </tr>\n",
       "    <tr>\n",
       "      <th>22</th>\n",
       "      <td>s33</td>\n",
       "      <td>Movie</td>\n",
       "      <td>#FriendButMarried 2</td>\n",
       "      <td>Rako Prijanto</td>\n",
       "      <td>\"Adipati Dolken, Mawar de Jongh, Sari Nila, Vo...</td>\n",
       "      <td>Indonesia</td>\n",
       "      <td>\"June 28, 2020\"</td>\n",
       "      <td>2020</td>\n",
       "      <td>104</td>\n",
       "      <td>\"As Ayu and Ditto finally transition from best...</td>\n",
       "      <td>Dramas</td>\n",
       "    </tr>\n",
       "    <tr>\n",
       "      <th>39</th>\n",
       "      <td>s58</td>\n",
       "      <td>Movie</td>\n",
       "      <td>100% Halal</td>\n",
       "      <td>Jastis Arimba</td>\n",
       "      <td>\"Anisa Rahma, Ariyo Wahab, Anandito Dwis, Fitr...</td>\n",
       "      <td>Indonesia</td>\n",
       "      <td>\"January 7, 2021\"</td>\n",
       "      <td>2020</td>\n",
       "      <td>101</td>\n",
       "      <td>\"After high school, a young woman marries the ...</td>\n",
       "      <td>Dramas</td>\n",
       "    </tr>\n",
       "    <tr>\n",
       "      <th>67</th>\n",
       "      <td>s100</td>\n",
       "      <td>Movie</td>\n",
       "      <td>3 Heroines</td>\n",
       "      <td>Iman Brotoseno</td>\n",
       "      <td>\"Reza Rahadian, Bunga Citra Lestari, Tara Basr...</td>\n",
       "      <td>Indonesia</td>\n",
       "      <td>\"January 5, 2019\"</td>\n",
       "      <td>2016</td>\n",
       "      <td>124</td>\n",
       "      <td>Three Indonesian women break records by becomi...</td>\n",
       "      <td>Dramas</td>\n",
       "    </tr>\n",
       "    <tr>\n",
       "      <th>86</th>\n",
       "      <td>s124</td>\n",
       "      <td>Movie</td>\n",
       "      <td>5CM</td>\n",
       "      <td>Rizal Mantovani</td>\n",
       "      <td>\"Herjunot Ali, Raline Shah, Fedi Nuril, Pevita...</td>\n",
       "      <td>Indonesia</td>\n",
       "      <td>\"September 28, 2018\"</td>\n",
       "      <td>2012</td>\n",
       "      <td>126</td>\n",
       "      <td>\"Five friends embark on a mission to climb the...</td>\n",
       "      <td>Dramas</td>\n",
       "    </tr>\n",
       "  </tbody>\n",
       "</table>\n",
       "</div>"
      ],
      "text/plain": [
       "   show_id   type                title         director  \\\n",
       "21     s32  Movie    #FriendButMarried    Rako Prijanto   \n",
       "22     s33  Movie  #FriendButMarried 2    Rako Prijanto   \n",
       "39     s58  Movie           100% Halal    Jastis Arimba   \n",
       "67    s100  Movie           3 Heroines   Iman Brotoseno   \n",
       "86    s124  Movie                  5CM  Rizal Mantovani   \n",
       "\n",
       "                                                 cast    country  \\\n",
       "21  \"Adipati Dolken, Vanesha Prescilla, Rendi Jhon...  Indonesia   \n",
       "22  \"Adipati Dolken, Mawar de Jongh, Sari Nila, Vo...  Indonesia   \n",
       "39  \"Anisa Rahma, Ariyo Wahab, Anandito Dwis, Fitr...  Indonesia   \n",
       "67  \"Reza Rahadian, Bunga Citra Lestari, Tara Basr...  Indonesia   \n",
       "86  \"Herjunot Ali, Raline Shah, Fedi Nuril, Pevita...  Indonesia   \n",
       "\n",
       "              date_added  release_year  duration  \\\n",
       "21        \"May 21, 2020\"          2018       102   \n",
       "22       \"June 28, 2020\"          2020       104   \n",
       "39     \"January 7, 2021\"          2020       101   \n",
       "67     \"January 5, 2019\"          2016       124   \n",
       "86  \"September 28, 2018\"          2012       126   \n",
       "\n",
       "                                          description   genre  \n",
       "21  \"Pining for his high school crush for years, a...  Dramas  \n",
       "22  \"As Ayu and Ditto finally transition from best...  Dramas  \n",
       "39  \"After high school, a young woman marries the ...  Dramas  \n",
       "67  Three Indonesian women break records by becomi...  Dramas  \n",
       "86  \"Five friends embark on a mission to climb the...  Dramas  "
      ]
     },
     "execution_count": 40,
     "metadata": {},
     "output_type": "execute_result"
    }
   ],
   "source": [
    "indonesia_movies = netflix_df[(netflix_df[\"country\"] == \"Indonesia\")]\n",
    "indonesia_movies.head()"
   ]
  },
  {
   "cell_type": "code",
   "execution_count": 41,
   "metadata": {},
   "outputs": [
    {
     "data": {
      "text/plain": [
       "(73, 11)"
      ]
     },
     "execution_count": 41,
     "metadata": {},
     "output_type": "execute_result"
    }
   ],
   "source": [
    "indonesia_movies.shape"
   ]
  }
 ],
 "metadata": {
  "kernelspec": {
   "display_name": "Python 3",
   "language": "python",
   "name": "python3"
  },
  "language_info": {
   "codemirror_mode": {
    "name": "ipython",
    "version": 3
   },
   "file_extension": ".py",
   "mimetype": "text/x-python",
   "name": "python",
   "nbconvert_exporter": "python",
   "pygments_lexer": "ipython3",
   "version": "3.13.0"
  }
 },
 "nbformat": 4,
 "nbformat_minor": 2
}
